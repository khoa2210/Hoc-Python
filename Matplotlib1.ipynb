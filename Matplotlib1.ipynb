{
  "nbformat": 4,
  "nbformat_minor": 0,
  "metadata": {
    "colab": {
      "name": "Matplotlib1.ipynb",
      "provenance": [],
      "authorship_tag": "ABX9TyO4GmRBQDYyoNOcpaeH9trq",
      "include_colab_link": true
    },
    "kernelspec": {
      "name": "python3",
      "display_name": "Python 3"
    },
    "language_info": {
      "name": "python"
    }
  },
  "cells": [
    {
      "cell_type": "markdown",
      "metadata": {
        "id": "view-in-github",
        "colab_type": "text"
      },
      "source": [
        "<a href=\"https://colab.research.google.com/github/khoa2210/Hoc-Python/blob/main/Matplotlib1.ipynb\" target=\"_parent\"><img src=\"https://colab.research.google.com/assets/colab-badge.svg\" alt=\"Open In Colab\"/></a>"
      ]
    },
    {
      "cell_type": "markdown",
      "source": [
        "Câu 1: Xét hàm số y(x) = x3 + 3x + 7 với x ∈ [−6, 5]. Hãy:\n",
        "- Xác định đạo hàm bậc nhất và bậc hai của hàm số trên;\n",
        "- Tạo ra 1 vector x có 1500 phần tử với giá trị khởi đầu là -6 và kết thúc là 5 bằng hàm\n",
        "linspace();\n",
        "- Xây dựng vector y, y1 và y2 tương ứng hàm số y(x), y(x)\n",
        "′\n",
        ", y(x)\n",
        "′′ với giá trị các phần tử\n",
        "\n",
        "tương ứng được sinh ra từ việc sử dụng vector x ở trên làm tham số đầu vào;\n",
        "- Hãy tạo đối tượng fig (là đối tượng của lớp Figure) và đối tượng ax (là đối tượng của\n",
        "Axes) từ hàm subplot() để phục vụ việc vẽ hình đồ thị của các hàm số trên;\n",
        "- Sử dụng đối tượng ax để vẽ đồ thị cho hàm số y(x) tương ứng với tham số đầu vào là x và\n",
        "y và đặt tên cho đồ thị này là y(x);\n",
        "\n",
        "- Sử dụng đối tượng ax để vẽ đồ thị cho hàm số y\n",
        "′\n",
        "(x) tương ứng với tham số đầu vào là x\n",
        "\n",
        "và y1 và đặt tên cho đồ thị này là y\n",
        "′\n",
        "(x);\n",
        "- Sử dụng đối tượng ax để vẽ đồ thị cho hàm số y\n",
        "\n",
        "′′(x) tương ứng với tham số đầu vào là x\n",
        "\n",
        "và y2 và đặt tên cho đồ thị này là y\n",
        "′′(x);\n",
        "\n",
        "- Thiết lập tên cho các trục tọa độ: tung độ là y và hoành độ là x;\n",
        "- Hiển thị các tên của từng đồ thị lên hình vẽ (gợi ý: hàm legend()).\n",
        "Kết quả xuất ra file ảnh định dạng svg"
      ],
      "metadata": {
        "id": "4l6gX-lXQxim"
      }
    },
    {
      "cell_type": "code",
      "source": [
        "#Thư viện cần dùng\n",
        "import matplotlib.pyplot as plt\n",
        "from scipy.misc import derivative\n",
        "import numpy as np"
      ],
      "metadata": {
        "id": "bRlXAhdOQyMb"
      },
      "execution_count": 27,
      "outputs": []
    },
    {
      "cell_type": "code",
      "source": [
        "def function(x):\n",
        "    return x*x*x+3*x+7\n",
        "    \n",
        "def daoham(x):\n",
        "    return derivative(function, x)"
      ],
      "metadata": {
        "id": "PB3SXspzemUi"
      },
      "execution_count": 28,
      "outputs": []
    },
    {
      "cell_type": "code",
      "source": [
        "x = np.linspace(-6, 5)\n",
        "x"
      ],
      "metadata": {
        "colab": {
          "base_uri": "https://localhost:8080/"
        },
        "id": "qXTAMZlBe9gs",
        "outputId": "4123988c-0317-4a07-8edd-4970b62a035d"
      },
      "execution_count": 29,
      "outputs": [
        {
          "output_type": "execute_result",
          "data": {
            "text/plain": [
              "array([-6.        , -5.7755102 , -5.55102041, -5.32653061, -5.10204082,\n",
              "       -4.87755102, -4.65306122, -4.42857143, -4.20408163, -3.97959184,\n",
              "       -3.75510204, -3.53061224, -3.30612245, -3.08163265, -2.85714286,\n",
              "       -2.63265306, -2.40816327, -2.18367347, -1.95918367, -1.73469388,\n",
              "       -1.51020408, -1.28571429, -1.06122449, -0.83673469, -0.6122449 ,\n",
              "       -0.3877551 , -0.16326531,  0.06122449,  0.28571429,  0.51020408,\n",
              "        0.73469388,  0.95918367,  1.18367347,  1.40816327,  1.63265306,\n",
              "        1.85714286,  2.08163265,  2.30612245,  2.53061224,  2.75510204,\n",
              "        2.97959184,  3.20408163,  3.42857143,  3.65306122,  3.87755102,\n",
              "        4.10204082,  4.32653061,  4.55102041,  4.7755102 ,  5.        ])"
            ]
          },
          "metadata": {},
          "execution_count": 29
        }
      ]
    },
    {
      "cell_type": "code",
      "source": [
        "y = function(x)\n",
        "y"
      ],
      "metadata": {
        "colab": {
          "base_uri": "https://localhost:8080/"
        },
        "id": "dXXJc0bGfIw0",
        "outputId": "23a91540-51a3-418a-b895-0aa02e713f80"
      },
      "execution_count": 30,
      "outputs": [
        {
          "output_type": "execute_result",
          "data": {
            "text/plain": [
              "array([-227.        , -202.97744137, -180.70124693, -160.10353679,\n",
              "       -141.11643108, -123.67204991, -107.70251341,  -93.13994169,\n",
              "        -79.91645488,  -67.96417309,  -57.21521645,  -47.60170507,\n",
              "        -39.05575908,  -31.50949859,  -24.89504373,  -19.14451462,\n",
              "        -14.19003136,   -9.9637141 ,   -6.39768294,   -3.424058  ,\n",
              "         -0.97495941,    1.01749271,    2.62117825,    3.90397708,\n",
              "          4.93376909,    5.77843416,    6.50585215,    7.18390297,\n",
              "          7.88046647,    8.66342255,    9.60065109,   10.76003196,\n",
              "         12.20944504,   14.01677022,   16.24988738,   18.97667638,\n",
              "         22.26501713,   26.18278948,   30.79787334,   36.17814856,\n",
              "         42.39149504,   49.50579265,   57.58892128,   66.70876081,\n",
              "         76.9331911 ,   88.33009205,  100.96734354,  114.91282544,\n",
              "        130.23441763,  147.        ])"
            ]
          },
          "metadata": {},
          "execution_count": 30
        }
      ]
    },
    {
      "cell_type": "code",
      "source": [
        "y1 = daoham(x)\n",
        "y1"
      ],
      "metadata": {
        "colab": {
          "base_uri": "https://localhost:8080/"
        },
        "id": "83A14i_Bhrg9",
        "outputId": "e0f7dc2d-7c68-4595-8577-05bc942bf30a"
      },
      "execution_count": 31,
      "outputs": [
        {
          "output_type": "execute_result",
          "data": {
            "text/plain": [
              "array([112.        , 104.06955435,  96.44148272,  89.11578509,\n",
              "        82.09246147,  75.37151187,  68.95293628,  62.83673469,\n",
              "        57.02290712,  51.51145356,  46.30237401,  41.39566847,\n",
              "        36.79133694,  32.48937943,  28.48979592,  24.79258642,\n",
              "        21.39775094,  18.30528946,  15.515202  ,  13.02748855,\n",
              "        10.8421491 ,   8.95918367,   7.37859225,   6.10037484,\n",
              "         5.12453145,   4.45106206,   4.07996668,   4.01124531,\n",
              "         4.24489796,   4.78092461,   5.61932528,   6.76009996,\n",
              "         8.20324865,   9.94877135,  11.99666805,  14.34693878,\n",
              "        16.99958351,  19.95460225,  23.211995  ,  26.77176177,\n",
              "        30.63390254,  34.79841733,  39.26530612,  44.03456893,\n",
              "        49.10620575,  54.48021658,  60.15660142,  66.13536027,\n",
              "        72.41649313,  79.        ])"
            ]
          },
          "metadata": {},
          "execution_count": 31
        }
      ]
    },
    {
      "cell_type": "code",
      "source": [
        "y2 = daoham(daoham(x))\n",
        "y2"
      ],
      "metadata": {
        "colab": {
          "base_uri": "https://localhost:8080/"
        },
        "id": "CIm8GAbGhrpu",
        "outputId": "1e599b7b-f72b-4418-b96f-9a53682e4ee7"
      },
      "execution_count": 22,
      "outputs": [
        {
          "output_type": "execute_result",
          "data": {
            "text/plain": [
              "array([37636.        , 32495.41642929, 27906.87876511, 23828.86945638,\n",
              "       20221.51669277, 17046.59440473, 14267.52226347, 11849.36568097,\n",
              "        9758.83580994,  7964.28954391,  6435.72951712,  5144.8041046 ,\n",
              "        4064.80742215,  3170.67932631,  2439.00541441,  1848.01702453,\n",
              "        1377.5912355 ,  1009.25086694,   726.16447922,   513.14637348,\n",
              "         356.65659162,   244.80091628,   167.33087092,   115.64371971,\n",
              "          82.7824676 ,    63.43586032,    53.93838434,    52.27026692,\n",
              "          58.05747605,    72.57172052,    98.73044985,   141.09685434,\n",
              "         205.87986506,   300.93415384,   435.76013326,   621.50395668,\n",
              "         870.95751822,  1198.55845275,  1620.39013593,  2154.18168416,\n",
              "        2819.3079546 ,  3636.78954521,  4629.29279467,  5821.12978245,\n",
              "        7238.25832878,  8908.28199464, 10860.4500818 , 13125.65763276,\n",
              "       15736.44543081, 18727.        ])"
            ]
          },
          "metadata": {},
          "execution_count": 22
        }
      ]
    },
    {
      "cell_type": "code",
      "source": [
        "fig, ax = plt.subplots()\n",
        "ax.plot(x, y)\n",
        "ax.set_title('Đồ thị x^3+3x+7')\n",
        "ax.set_ylabel('y')\n",
        "ax.set_xlabel('x')\n",
        "plt.savefig(\"1.svg\")"
      ],
      "metadata": {
        "colab": {
          "base_uri": "https://localhost:8080/",
          "height": 295
        },
        "id": "n9I6wf94iBTN",
        "outputId": "147fb998-7478-4579-c875-b7da1715a103"
      },
      "execution_count": 45,
      "outputs": [
        {
          "output_type": "display_data",
          "data": {
            "text/plain": [
              "<Figure size 432x288 with 1 Axes>"
            ],
            "image/png": "[encoded data removed]"
          },
          "metadata": {
            "needs_background": "light"
          }
        }
      ]
    },
    {
      "cell_type": "code",
      "source": [
        "fig, ax = plt.subplots()\n",
        "ax.plot(x, y1)\n",
        "ax.set_title('Đồ thị đạo hàm bậc 1 x^3+3x+7')\n",
        "ax.set_ylabel('y')\n",
        "ax.set_xlabel('x')\n",
        "plt.savefig(\"2.svg\")"
      ],
      "metadata": {
        "colab": {
          "base_uri": "https://localhost:8080/",
          "height": 295
        },
        "id": "zFAQ1mfzi19Q",
        "outputId": "6804a3e8-f38f-4257-dbd0-40cf11c2db21"
      },
      "execution_count": 46,
      "outputs": [
        {
          "output_type": "display_data",
          "data": {
            "text/plain": [
              "<Figure size 432x288 with 1 Axes>"
            ],
            "image/png": "[encoded data removed]"
          },
          "metadata": {
            "needs_background": "light"
          }
        }
      ]
    },
    {
      "cell_type": "code",
      "source": [
        "fig, ax = plt.subplots()\n",
        "ax.plot(x, y2)\n",
        "ax.set_title('Đồ thị đạo hàm bậc 2 x^3+3x+7')\n",
        "ax.set_ylabel('y')\n",
        "ax.set_xlabel('x')\n",
        "plt.savefig(\"3.svg\")"
      ],
      "metadata": {
        "colab": {
          "base_uri": "https://localhost:8080/",
          "height": 295
        },
        "id": "aRT5-Glui2DD",
        "outputId": "e5b6f6e3-5c47-44ce-aa0a-da467ab7a3d4"
      },
      "execution_count": 47,
      "outputs": [
        {
          "output_type": "display_data",
          "data": {
            "text/plain": [
              "<Figure size 432x288 with 1 Axes>"
            ],
            "image/png": "[encoded data removed]"
          },
          "metadata": {
            "needs_background": "light"
          }
        }
      ]
    }
  ]
}