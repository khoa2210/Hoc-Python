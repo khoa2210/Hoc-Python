{
  "nbformat": 4,
  "nbformat_minor": 0,
  "metadata": {
    "colab": {
      "name": "Numpy.ipynb",
      "provenance": [],
      "authorship_tag": "ABX9TyMU0wS3fdjSQe2RwS8barMs",
      "include_colab_link": true
    },
    "kernelspec": {
      "name": "python3",
      "display_name": "Python 3"
    },
    "language_info": {
      "name": "python"
    }
  },
  "cells": [
    {
      "cell_type": "markdown",
      "metadata": {
        "id": "view-in-github",
        "colab_type": "text"
      },
      "source": [
        "<a href=\"https://colab.research.google.com/github/khoa2210/Hoc-Python/blob/main/Numpy.ipynb\" target=\"_parent\"><img src=\"https://colab.research.google.com/assets/colab-badge.svg\" alt=\"Open In Colab\"/></a>"
      ]
    },
    {
      "cell_type": "markdown",
      "source": [
        "Khai báo thư viện Numpy"
      ],
      "metadata": {
        "id": "kcmeRV_xKtTV"
      }
    },
    {
      "cell_type": "code",
      "source": [
        "import numpy as np "
      ],
      "metadata": {
        "id": "aC7eJrLXKtae"
      },
      "execution_count": 1,
      "outputs": []
    },
    {
      "cell_type": "markdown",
      "source": [
        "Khởi tạo mảng 1 chiều "
      ],
      "metadata": {
        "id": "iF_XICOLLlMS"
      }
    },
    {
      "cell_type": "code",
      "source": [
        "#Khởi tạo mảng một chiều \n",
        "arr = np.array([1,2,3,4,5,6], dtype = int)\n",
        "\n",
        "#Khởi tạo mảng một chiều với kiểu dữ liệu mặc định\n",
        "arr = np.array([1,2,3,4,5,6])\n",
        "\n",
        "print(arr)"
      ],
      "metadata": {
        "colab": {
          "base_uri": "https://localhost:8080/"
        },
        "id": "PTKiblr-LlVr",
        "outputId": "2a299ae3-45cf-4d1d-98d7-a2dcdf72a70a"
      },
      "execution_count": 2,
      "outputs": [
        {
          "output_type": "stream",
          "name": "stdout",
          "text": [
            "[1 3 4 5 6]\n"
          ]
        }
      ]
    },
    {
      "cell_type": "markdown",
      "source": [
        "Mảng đa chiều (ma trận)"
      ],
      "metadata": {
        "id": "hJ6OBum8MPUn"
      }
    },
    {
      "cell_type": "code",
      "source": [
        "arr1 = np.array([(4,5,6), (1,2,3),(7,8,9)], dtype = int)\n",
        "\n",
        "print(arr1)"
      ],
      "metadata": {
        "colab": {
          "base_uri": "https://localhost:8080/"
        },
        "id": "wel56-obMVjM",
        "outputId": "d3a161fd-45c1-49e1-82fe-b32c20c75003"
      },
      "execution_count": 4,
      "outputs": [
        {
          "output_type": "stream",
          "name": "stdout",
          "text": [
            "[[4 5 6]\n",
            " [1 2 3]\n",
            " [7 8 9]]\n"
          ]
        }
      ]
    },
    {
      "cell_type": "markdown",
      "source": [
        "Truy cập phần tử của ma trận\n"
      ],
      "metadata": {
        "id": "iiCyBdf4NEes"
      }
    },
    {
      "cell_type": "code",
      "source": [
        "print(arr1[0,0])"
      ],
      "metadata": {
        "colab": {
          "base_uri": "https://localhost:8080/"
        },
        "id": "rqLaratKNEkS",
        "outputId": "b54a7bbd-60aa-431c-9806-19ff215010c4"
      },
      "execution_count": 10,
      "outputs": [
        {
          "output_type": "stream",
          "name": "stdout",
          "text": [
            "4\n"
          ]
        }
      ]
    },
    {
      "cell_type": "markdown",
      "source": [
        "Tính kích thước ma trận"
      ],
      "metadata": {
        "id": "hZXPk-h5N15z"
      }
    },
    {
      "cell_type": "code",
      "source": [
        "arr2 = np.array([[1, 2, 3, 4], [4, 5, 6, 7], [7, 8, 9, 10]])\n",
        "print(arr2.shape)"
      ],
      "metadata": {
        "colab": {
          "base_uri": "https://localhost:8080/"
        },
        "id": "rn_V49zPN2C2",
        "outputId": "c206c52a-1cea-4b12-8b8c-734e9b608f08"
      },
      "execution_count": 11,
      "outputs": [
        {
          "output_type": "stream",
          "name": "stdout",
          "text": [
            "(3, 4)\n"
          ]
        }
      ]
    },
    {
      "cell_type": "markdown",
      "source": [
        "Các phép toán ma trận "
      ],
      "metadata": {
        "id": "u8bqsD1CN-fo"
      }
    },
    {
      "cell_type": "code",
      "source": [
        "# Cộng trừ 2 ma trận \n",
        "A = np.array([[1, 3, 4], [-2, 6, 0], [-5, 7, 2]])\n",
        "B = np.array([[2, 3, 4], [-1, -2, -3], [0, 4, -4]])\n",
        "print(A + B)\n",
        "print(A - B)"
      ],
      "metadata": {
        "colab": {
          "base_uri": "https://localhost:8080/"
        },
        "id": "uGbRU3sXN-lP",
        "outputId": "ed001ac4-6ff0-404c-9f78-6bf29820bae4"
      },
      "execution_count": 13,
      "outputs": [
        {
          "output_type": "stream",
          "name": "stdout",
          "text": [
            "[[ 3  6  8]\n",
            " [-3  4 -3]\n",
            " [-5 11 -2]]\n",
            "[[-1  0  0]\n",
            " [-1  8  3]\n",
            " [-5  3  6]]\n"
          ]
        }
      ]
    },
    {
      "cell_type": "markdown",
      "source": [
        "Nhân chia ma trận với 1 số "
      ],
      "metadata": {
        "id": "0Un46eZhOqKF"
      }
    },
    {
      "cell_type": "code",
      "source": [
        "print(A*3)\n",
        "print(B/2)"
      ],
      "metadata": {
        "colab": {
          "base_uri": "https://localhost:8080/"
        },
        "id": "nhD0ndE3OqRl",
        "outputId": "3b8a0937-0d3a-408b-a897-e35a62c42656"
      },
      "execution_count": 14,
      "outputs": [
        {
          "output_type": "stream",
          "name": "stdout",
          "text": [
            "[[  3   9  12]\n",
            " [ -6  18   0]\n",
            " [-15  21   6]]\n",
            "[[ 1.   1.5  2. ]\n",
            " [-0.5 -1.  -1.5]\n",
            " [ 0.   2.  -2. ]]\n"
          ]
        }
      ]
    },
    {
      "cell_type": "markdown",
      "source": [
        "Nhân 2 ma trận với nhau"
      ],
      "metadata": {
        "id": "om5dCEN8O3yI"
      }
    },
    {
      "cell_type": "code",
      "source": [
        "print(A @ B)\n",
        "print(B @ A)"
      ],
      "metadata": {
        "colab": {
          "base_uri": "https://localhost:8080/"
        },
        "id": "S-nypZWlO36_",
        "outputId": "103b27f2-4e52-4e6f-d9e9-9338d4680484"
      },
      "execution_count": 15,
      "outputs": [
        {
          "output_type": "stream",
          "name": "stdout",
          "text": [
            "[[ -1  13 -21]\n",
            " [-10 -18 -26]\n",
            " [-17 -21 -49]]\n",
            "[[-24  52  16]\n",
            " [ 18 -36 -10]\n",
            " [ 12  -4  -8]]\n"
          ]
        }
      ]
    },
    {
      "cell_type": "markdown",
      "source": [
        "Ma trận đơn vị "
      ],
      "metadata": {
        "id": "et4uHLQhPVVS"
      }
    },
    {
      "cell_type": "code",
      "source": [
        "arr = np.eye(4)\n",
        "print(arr)"
      ],
      "metadata": {
        "colab": {
          "base_uri": "https://localhost:8080/"
        },
        "id": "NKp64ZYkPVgH",
        "outputId": "fc4b5a5d-aff6-4adc-f37e-6446b9197a88"
      },
      "execution_count": 16,
      "outputs": [
        {
          "output_type": "stream",
          "name": "stdout",
          "text": [
            "[[1. 0. 0. 0.]\n",
            " [0. 1. 0. 0.]\n",
            " [0. 0. 1. 0.]\n",
            " [0. 0. 0. 1.]]\n"
          ]
        }
      ]
    },
    {
      "cell_type": "markdown",
      "source": [
        "Ma trận đường chéo"
      ],
      "metadata": {
        "id": "1TL__3kDPjRo"
      }
    },
    {
      "cell_type": "code",
      "source": [
        "A = np.diag([1, 2, 3])\n",
        "print(A)\n"
      ],
      "metadata": {
        "colab": {
          "base_uri": "https://localhost:8080/"
        },
        "id": "8qvqQtoqPjWe",
        "outputId": "c7858154-d9d2-4a8c-c277-a25a78ba24a7"
      },
      "execution_count": 17,
      "outputs": [
        {
          "output_type": "stream",
          "name": "stdout",
          "text": [
            "[[1 0 0]\n",
            " [0 2 0]\n",
            " [0 0 3]]\n"
          ]
        }
      ]
    },
    {
      "cell_type": "markdown",
      "source": [
        "Ma trận chuyển vị"
      ],
      "metadata": {
        "id": "z1gKvYqgPtWP"
      }
    },
    {
      "cell_type": "code",
      "source": [
        "A = np.array([[1, 2, 3], [4, 5, 6], [7, 8, 9]])\n",
        "print(A)\n",
        "print(np.transpose(A))"
      ],
      "metadata": {
        "colab": {
          "base_uri": "https://localhost:8080/"
        },
        "id": "EWHTd7ajPteJ",
        "outputId": "06171215-a3a8-464d-f56c-69a546c42804"
      },
      "execution_count": 19,
      "outputs": [
        {
          "output_type": "stream",
          "name": "stdout",
          "text": [
            "[[1 2 3]\n",
            " [4 5 6]\n",
            " [7 8 9]]\n",
            "[[1 4 7]\n",
            " [2 5 8]\n",
            " [3 6 9]]\n"
          ]
        }
      ]
    },
    {
      "cell_type": "markdown",
      "source": [
        "Ma trận vuông"
      ],
      "metadata": {
        "id": "JINWEhksTgGH"
      }
    },
    {
      "cell_type": "code",
      "source": [
        "A = np.array([[2, 1, 3], [5, 3, 2], [1, 4, 3]])\n",
        "print(np.linalg.det(A))"
      ],
      "metadata": {
        "colab": {
          "base_uri": "https://localhost:8080/"
        },
        "id": "6gqmtxYtTgMW",
        "outputId": "887e64dd-4f41-4be8-c7be-dce035b3108d"
      },
      "execution_count": 20,
      "outputs": [
        {
          "output_type": "stream",
          "name": "stdout",
          "text": [
            "40.000000000000014\n"
          ]
        }
      ]
    },
    {
      "cell_type": "markdown",
      "source": [
        "Ma trận nghịch đảo "
      ],
      "metadata": {
        "id": "y7wDo8cXT6jB"
      }
    },
    {
      "cell_type": "code",
      "source": [
        "A = np.array([[1, 2, 3], [2, 5, 3], [1, 0, 8]])\n",
        "print(np.linalg.inv(A))"
      ],
      "metadata": {
        "colab": {
          "base_uri": "https://localhost:8080/"
        },
        "id": "EXnHBD7NT61A",
        "outputId": "1ae48793-b231-4947-a7de-2820eb62e9a3"
      },
      "execution_count": 21,
      "outputs": [
        {
          "output_type": "stream",
          "name": "stdout",
          "text": [
            "[[-40.  16.   9.]\n",
            " [ 13.  -5.  -3.]\n",
            " [  5.  -2.  -1.]]\n"
          ]
        }
      ]
    }
  ]
}