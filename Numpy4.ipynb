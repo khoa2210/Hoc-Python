{
  "nbformat": 4,
  "nbformat_minor": 0,
  "metadata": {
    "colab": {
      "name": "Numpy4.ipynb",
      "provenance": [],
      "authorship_tag": "ABX9TyMCw7/HHc0/ppLcyfyidLfl",
      "include_colab_link": true
    },
    "kernelspec": {
      "name": "python3",
      "display_name": "Python 3"
    },
    "language_info": {
      "name": "python"
    }
  },
  "cells": [
    {
      "cell_type": "markdown",
      "metadata": {
        "id": "view-in-github",
        "colab_type": "text"
      },
      "source": [
        "<a href=\"https://colab.research.google.com/github/khoa2210/Hoc-Python/blob/main/Numpy4.ipynb\" target=\"_parent\"><img src=\"https://colab.research.google.com/assets/colab-badge.svg\" alt=\"Open In Colab\"/></a>"
      ]
    },
    {
      "cell_type": "markdown",
      "source": [
        "Câu 1: Sử dụng thư viện Numpy, hãy tạo một vector a có 7 chiều (tương ứng 7 phần tử) với giá\n",
        "trị các phần tử được sinh bằng hàm (kết quả xuất ra màn hình):"
      ],
      "metadata": {
        "id": "LbJvoaH9E0BY"
      }
    },
    {
      "cell_type": "code",
      "source": [
        "import numpy as np "
      ],
      "metadata": {
        "id": "BsdOofM8E0IA"
      },
      "execution_count": 57,
      "outputs": []
    },
    {
      "cell_type": "code",
      "source": [
        "a = np.arange(7)\n",
        "print(a)\n",
        "print(np.ndim(a))\n",
        "print(np.shape([a]))"
      ],
      "metadata": {
        "colab": {
          "base_uri": "https://localhost:8080/"
        },
        "id": "VJnr6vmRFQ-T",
        "outputId": "eb2a02c9-8e1f-4cec-f97d-8d3ac737c2cd"
      },
      "execution_count": 73,
      "outputs": [
        {
          "output_type": "stream",
          "name": "stdout",
          "text": [
            "[0 1 2 3 4 5 6]\n",
            "1\n",
            "(1, 7)\n"
          ]
        }
      ]
    },
    {
      "cell_type": "code",
      "source": [
        "a = np.linspace(1,100,7,dtype = int)\n",
        "print(a)\n",
        "print(np.ndim(a))\n",
        "np.shape([a])"
      ],
      "metadata": {
        "colab": {
          "base_uri": "https://localhost:8080/"
        },
        "id": "tq77Wiq1F-UY",
        "outputId": "f2a381ab-94df-45c0-e8a5-3699e79e499a"
      },
      "execution_count": 74,
      "outputs": [
        {
          "output_type": "stream",
          "name": "stdout",
          "text": [
            "[  1  17  34  50  67  83 100]\n",
            "1\n"
          ]
        },
        {
          "output_type": "execute_result",
          "data": {
            "text/plain": [
              "(1, 7)"
            ]
          },
          "metadata": {},
          "execution_count": 74
        }
      ]
    },
    {
      "cell_type": "code",
      "source": [
        "a = np.logspace(0,1,num = 7, dtype  = int) \n",
        "print (a)\n",
        "print(np.ndim(a))\n",
        "np.shape([a])"
      ],
      "metadata": {
        "colab": {
          "base_uri": "https://localhost:8080/"
        },
        "id": "hQO_KK7HG-nN",
        "outputId": "4fed18f0-89be-471a-aa26-59014c462fec"
      },
      "execution_count": 75,
      "outputs": [
        {
          "output_type": "stream",
          "name": "stdout",
          "text": [
            "[ 1  1  2  3  4  6 10]\n",
            "1\n"
          ]
        },
        {
          "output_type": "execute_result",
          "data": {
            "text/plain": [
              "(1, 7)"
            ]
          },
          "metadata": {},
          "execution_count": 75
        }
      ]
    },
    {
      "cell_type": "code",
      "source": [
        "a = np.random.rand(1,7)\n",
        "print(a)\n",
        "print(np.ndim(a))\n",
        "np.shape(a)"
      ],
      "metadata": {
        "id": "Z1rl87BXIBZT",
        "colab": {
          "base_uri": "https://localhost:8080/"
        },
        "outputId": "40c4a2cd-ff9e-4d93-9aca-75ade6ad2272"
      },
      "execution_count": 76,
      "outputs": [
        {
          "output_type": "stream",
          "name": "stdout",
          "text": [
            "[[0.06855976 0.56766873 0.62490168 0.78719962 0.37706728 0.55620513\n",
            "  0.34005469]]\n",
            "2\n"
          ]
        },
        {
          "output_type": "execute_result",
          "data": {
            "text/plain": [
              "(1, 7)"
            ]
          },
          "metadata": {},
          "execution_count": 76
        }
      ]
    },
    {
      "cell_type": "markdown",
      "source": [
        "Câu 2: Sử dụng thư viện Numpy, hãy tạo ra ma trận A10x7 với giá trị các phần tử của ma trận A\n",
        "được sinh bởi:"
      ],
      "metadata": {
        "id": "6cMNvpi7KZjI"
      }
    },
    {
      "cell_type": "code",
      "source": [
        "a = np.arange(70).reshape(10,7)\n",
        "print(a)\n",
        "print(np.ndim(a))\n",
        "print(np.shape(a))\n",
        "\n",
        "b = np.transpose(a)\n",
        "print(b)\n",
        "print(np.ndim(b))\n",
        "print(np.shape(b))"
      ],
      "metadata": {
        "colab": {
          "base_uri": "https://localhost:8080/"
        },
        "id": "mt_MYgZ0KZoW",
        "outputId": "0ffe3d17-2e70-433e-8e0f-13f290b65cca"
      },
      "execution_count": 85,
      "outputs": [
        {
          "output_type": "stream",
          "name": "stdout",
          "text": [
            "[[ 0  1  2  3  4  5  6]\n",
            " [ 7  8  9 10 11 12 13]\n",
            " [14 15 16 17 18 19 20]\n",
            " [21 22 23 24 25 26 27]\n",
            " [28 29 30 31 32 33 34]\n",
            " [35 36 37 38 39 40 41]\n",
            " [42 43 44 45 46 47 48]\n",
            " [49 50 51 52 53 54 55]\n",
            " [56 57 58 59 60 61 62]\n",
            " [63 64 65 66 67 68 69]]\n",
            "2\n",
            "(10, 7)\n",
            "[[ 0  7 14 21 28 35 42 49 56 63]\n",
            " [ 1  8 15 22 29 36 43 50 57 64]\n",
            " [ 2  9 16 23 30 37 44 51 58 65]\n",
            " [ 3 10 17 24 31 38 45 52 59 66]\n",
            " [ 4 11 18 25 32 39 46 53 60 67]\n",
            " [ 5 12 19 26 33 40 47 54 61 68]\n",
            " [ 6 13 20 27 34 41 48 55 62 69]]\n",
            "2\n",
            "(7, 10)\n"
          ]
        }
      ]
    },
    {
      "cell_type": "code",
      "source": [
        "a = np.linspace(1,100,70,dtype = int).reshape(10,7)\n",
        "print(a)\n",
        "print(np.ndim(a))\n",
        "print(np.shape(a))\n",
        "\n",
        "b = np.transpose(a)\n",
        "print(b)\n",
        "print(np.ndim(b))\n",
        "print(np.shape(b))"
      ],
      "metadata": {
        "colab": {
          "base_uri": "https://localhost:8080/"
        },
        "id": "G4OpxD0rSgKL",
        "outputId": "bff45856-9abf-4497-8346-644d1a6de234"
      },
      "execution_count": 87,
      "outputs": [
        {
          "output_type": "stream",
          "name": "stdout",
          "text": [
            "[[  1   2   3   5   6   8   9]\n",
            " [ 11  12  13  15  16  18  19]\n",
            " [ 21  22  23  25  26  28  29]\n",
            " [ 31  32  34  35  36  38  39]\n",
            " [ 41  42  44  45  46  48  49]\n",
            " [ 51  52  54  55  56  58  59]\n",
            " [ 61  62  64  65  67  68  69]\n",
            " [ 71  72  74  75  77  78  79]\n",
            " [ 81  82  84  85  87  88  89]\n",
            " [ 91  92  94  95  97  98 100]]\n",
            "2\n",
            "(10, 7)\n",
            "[[  1  11  21  31  41  51  61  71  81  91]\n",
            " [  2  12  22  32  42  52  62  72  82  92]\n",
            " [  3  13  23  34  44  54  64  74  84  94]\n",
            " [  5  15  25  35  45  55  65  75  85  95]\n",
            " [  6  16  26  36  46  56  67  77  87  97]\n",
            " [  8  18  28  38  48  58  68  78  88  98]\n",
            " [  9  19  29  39  49  59  69  79  89 100]]\n",
            "2\n",
            "(7, 10)\n"
          ]
        }
      ]
    },
    {
      "cell_type": "code",
      "source": [
        "a = np.logspace(0,2,num = 70, dtype  = int).reshape(10,7) \n",
        "print(a)\n",
        "print(np.ndim(a))\n",
        "print(np.shape(a))\n",
        "\n",
        "b = np.transpose(a)\n",
        "print(b)\n",
        "print(np.ndim(b))\n",
        "print(np.shape(b))"
      ],
      "metadata": {
        "colab": {
          "base_uri": "https://localhost:8080/"
        },
        "id": "ogx8dpMgSuLv",
        "outputId": "eeb444d6-30b8-475b-b03f-40e24e6383ff"
      },
      "execution_count": 93,
      "outputs": [
        {
          "output_type": "stream",
          "name": "stdout",
          "text": [
            "[[  1   1   1   1   1   1   1]\n",
            " [  1   1   1   1   2   2   2]\n",
            " [  2   2   2   3   3   3   3]\n",
            " [  4   4   4   4   5   5   6]\n",
            " [  6   6   7   7   8   9   9]\n",
            " [ 10  11  11  12  13  14  15]\n",
            " [ 16  17  18  20  21  23  24]\n",
            " [ 26  28  30  32  34  36  39]\n",
            " [ 41  44  47  51  54  58  62]\n",
            " [ 67  71  76  81  87  93 100]]\n",
            "2\n",
            "(10, 7)\n",
            "[[  1   1   2   4   6  10  16  26  41  67]\n",
            " [  1   1   2   4   6  11  17  28  44  71]\n",
            " [  1   1   2   4   7  11  18  30  47  76]\n",
            " [  1   1   3   4   7  12  20  32  51  81]\n",
            " [  1   2   3   5   8  13  21  34  54  87]\n",
            " [  1   2   3   5   9  14  23  36  58  93]\n",
            " [  1   2   3   6   9  15  24  39  62 100]]\n",
            "2\n",
            "(7, 10)\n"
          ]
        }
      ]
    },
    {
      "cell_type": "code",
      "source": [
        "a = np.random.rand(10,7)\n",
        "print(a)\n",
        "print(np.ndim(a))\n",
        "print(np.shape(a))\n",
        "\n",
        "b = np.transpose(a)\n",
        "print(b)\n",
        "print(np.ndim(b))\n",
        "print(np.shape(b))"
      ],
      "metadata": {
        "colab": {
          "base_uri": "https://localhost:8080/"
        },
        "id": "TdhkNfA9SuQR",
        "outputId": "d40124c6-8bf3-4a5c-cef2-66aaaf15c5da"
      },
      "execution_count": 95,
      "outputs": [
        {
          "output_type": "stream",
          "name": "stdout",
          "text": [
            "[[0.84245369 0.18478046 0.31390249 0.50094512 0.83825267 0.32819913\n",
            "  0.33693854]\n",
            " [0.56541823 0.54154678 0.55887296 0.31591111 0.23824599 0.13336568\n",
            "  0.48808488]\n",
            " [0.01381702 0.81770997 0.78891541 0.10750843 0.42313879 0.88527625\n",
            "  0.66063885]\n",
            " [0.3103612  0.99658029 0.1663905  0.50204486 0.61764449 0.35793617\n",
            "  0.04793838]\n",
            " [0.94478539 0.78548609 0.55296537 0.35243317 0.47013187 0.420169\n",
            "  0.12045672]\n",
            " [0.0019115  0.64960505 0.20503869 0.38448187 0.3802067  0.70347659\n",
            "  0.2875363 ]\n",
            " [0.26256553 0.86182997 0.69069848 0.20518447 0.91340138 0.44957253\n",
            "  0.8613997 ]\n",
            " [0.58829493 0.43709163 0.13663897 0.64167225 0.13998784 0.11455577\n",
            "  0.46763665]\n",
            " [0.40390434 0.68248104 0.30425936 0.53433712 0.95081711 0.64442094\n",
            "  0.37088064]\n",
            " [0.53709141 0.30376674 0.20873833 0.74681306 0.96671814 0.09312864\n",
            "  0.02152643]]\n",
            "2\n",
            "(10, 7)\n",
            "[[0.84245369 0.56541823 0.01381702 0.3103612  0.94478539 0.0019115\n",
            "  0.26256553 0.58829493 0.40390434 0.53709141]\n",
            " [0.18478046 0.54154678 0.81770997 0.99658029 0.78548609 0.64960505\n",
            "  0.86182997 0.43709163 0.68248104 0.30376674]\n",
            " [0.31390249 0.55887296 0.78891541 0.1663905  0.55296537 0.20503869\n",
            "  0.69069848 0.13663897 0.30425936 0.20873833]\n",
            " [0.50094512 0.31591111 0.10750843 0.50204486 0.35243317 0.38448187\n",
            "  0.20518447 0.64167225 0.53433712 0.74681306]\n",
            " [0.83825267 0.23824599 0.42313879 0.61764449 0.47013187 0.3802067\n",
            "  0.91340138 0.13998784 0.95081711 0.96671814]\n",
            " [0.32819913 0.13336568 0.88527625 0.35793617 0.420169   0.70347659\n",
            "  0.44957253 0.11455577 0.64442094 0.09312864]\n",
            " [0.33693854 0.48808488 0.66063885 0.04793838 0.12045672 0.2875363\n",
            "  0.8613997  0.46763665 0.37088064 0.02152643]]\n",
            "2\n",
            "(7, 10)\n"
          ]
        }
      ]
    },
    {
      "cell_type": "markdown",
      "source": [
        "Câu 3: Sử dụng thư viện Numpy, hãy:\n",
        "- Chuyển ma trận A ở câu 2 thành vector. (Gợi ý: sử dụng hàm flatten())\n",
        "- Chuyển vector vừa được tạo ra ở câu trên thành ma trận. (Gợi ý: sử dụng hàm reshape())"
      ],
      "metadata": {
        "id": "R5BXNwgWTevE"
      }
    },
    {
      "cell_type": "code",
      "source": [
        "a = np.arange(70).reshape(10,7)\n",
        "print(a.flatten())\n",
        "\n",
        "b = np.reshape(a,(7,10))\n",
        "print(b)"
      ],
      "metadata": {
        "colab": {
          "base_uri": "https://localhost:8080/"
        },
        "id": "Kn15j2ESTe0Y",
        "outputId": "73da9cb7-ad1e-4989-97ef-23dbbdcb1482"
      },
      "execution_count": 100,
      "outputs": [
        {
          "output_type": "stream",
          "name": "stdout",
          "text": [
            "[ 0  1  2  3  4  5  6  7  8  9 10 11 12 13 14 15 16 17 18 19 20 21 22 23\n",
            " 24 25 26 27 28 29 30 31 32 33 34 35 36 37 38 39 40 41 42 43 44 45 46 47\n",
            " 48 49 50 51 52 53 54 55 56 57 58 59 60 61 62 63 64 65 66 67 68 69]\n",
            "[[ 0  1  2  3  4  5  6  7  8  9]\n",
            " [10 11 12 13 14 15 16 17 18 19]\n",
            " [20 21 22 23 24 25 26 27 28 29]\n",
            " [30 31 32 33 34 35 36 37 38 39]\n",
            " [40 41 42 43 44 45 46 47 48 49]\n",
            " [50 51 52 53 54 55 56 57 58 59]\n",
            " [60 61 62 63 64 65 66 67 68 69]]\n"
          ]
        }
      ]
    },
    {
      "cell_type": "markdown",
      "source": [
        "Câu 4: Sử dụng thư viện Numpy, hãy:\n",
        "- Tạo ra 1 ma trận A10x15 với các giá trị được sinh ra bởi hàm logspace();\n",
        "- Hãy trích rút dòng thứ 3 của ma trận A (tương ứng với 1 vector hàng);\n",
        "- Hãy trích rút ra cột thứ 5 của ma trận A (tương ứng với 1 vector cột)."
      ],
      "metadata": {
        "id": "cLMsyPHLUsrN"
      }
    },
    {
      "cell_type": "code",
      "source": [
        "a = np.logspace(0,3,num = 150, dtype  = int).reshape(10,15) \n",
        "print(a)\n",
        "\n",
        "print(a[3,])\n",
        "\n",
        "print(a[:,5])"
      ],
      "metadata": {
        "colab": {
          "base_uri": "https://localhost:8080/"
        },
        "id": "-QrJfXIfUsyR",
        "outputId": "69536972-ca0e-4a94-d8a0-321793ee3de5"
      },
      "execution_count": 124,
      "outputs": [
        {
          "output_type": "stream",
          "name": "stdout",
          "text": [
            "[[   1    1    1    1    1    1    1    1    1    1    1    1    1    1\n",
            "     1]\n",
            " [   2    2    2    2    2    2    2    2    2    3    3    3    3    3\n",
            "     3]\n",
            " [   4    4    4    4    4    5    5    5    5    6    6    6    7    7\n",
            "     7]\n",
            " [   8    8    8    9    9   10   10   11   11   12   12   13   14   14\n",
            "    15]\n",
            " [  16   16   17   18   19   20   21   22   23   24   25   26   28   29\n",
            "    30]\n",
            " [  32   33   35   37   38   40   42   44   46   49   51   53   56   59\n",
            "    61]\n",
            " [  64   67   71   74   78   81   85   89   94   98  103  108  113  118\n",
            "   124]\n",
            " [ 130  136  142  149  156  163  171  179  188  197  206  216  226  237\n",
            "   248]\n",
            " [ 260  273  286  299  313  328  344  360  377  395  414  434  454  476\n",
            "   498]\n",
            " [ 522  547  573  600  629  658  690  722  757  793  830  870  911  954\n",
            "  1000]]\n",
            "[ 8  8  8  9  9 10 10 11 11 12 12 13 14 14 15]\n",
            "[  1   2   5  10  20  40  81 163 328 658]\n"
          ]
        }
      ]
    },
    {
      "cell_type": "markdown",
      "source": [
        "Câu 5: Thực hiện các yêu cầu sau:\n",
        "- Xây dựng hàm tính giá trị trung bình\n",
        "- Xây dựng hàm tính giá trị trung vị\n",
        "- Xây dựng hàm tính giá trị yếu vị\n",
        "- Xây dựng hàm tính phương sai\n",
        "- Xây dựng hàm tính độ lệch chuẩn\n",
        "- Hãy tạo ra ma trận A15x10 với các giá trị sinh bởi hàm arrange()\n",
        "- Áp dụng 5 hàm ở trên cho từng hàng của ma trận A\n",
        "- Áp dụng 5 hàm ở trên cho từng cột của ma trận A"
      ],
      "metadata": {
        "id": "SiuJOph7Zumi"
      }
    },
    {
      "cell_type": "code",
      "source": [
        "array = np.random.randint(10, size=(15, 10))\n",
        "print(array)"
      ],
      "metadata": {
        "colab": {
          "base_uri": "https://localhost:8080/"
        },
        "id": "RNEhLNrta1ie",
        "outputId": "a1c95d3e-55e4-4e8a-fbc1-dd9f6ee01bf0"
      },
      "execution_count": 141,
      "outputs": [
        {
          "output_type": "stream",
          "name": "stdout",
          "text": [
            "[[3 3 6 5 9 5 4 2 8 8]\n",
            " [9 3 1 3 2 6 5 0 1 2]\n",
            " [7 4 4 6 9 9 9 9 0 3]\n",
            " [6 9 0 5 4 2 3 9 7 0]\n",
            " [7 7 8 2 9 4 4 5 9 0]\n",
            " [8 3 5 4 2 8 9 8 6 9]\n",
            " [6 5 9 5 0 9 6 8 2 4]\n",
            " [9 1 3 7 9 0 7 9 3 0]\n",
            " [5 8 1 3 4 9 0 5 2 0]\n",
            " [0 0 5 2 9 3 8 5 9 8]\n",
            " [2 4 1 2 9 8 6 0 0 9]\n",
            " [4 9 1 8 7 5 2 9 2 9]\n",
            " [0 8 6 4 3 6 4 6 8 8]\n",
            " [1 1 0 8 4 0 3 9 2 3]\n",
            " [9 5 1 3 6 4 9 0 9 4]]\n"
          ]
        }
      ]
    },
    {
      "cell_type": "code",
      "source": [
        "import statistics as sta\n",
        "from scipy import stats\n",
        "\n",
        "def trungbinh(vector_a):\n",
        "    return np.average(vector_a)\n",
        "\n",
        "def trungvi(vector_a):\n",
        "    return np.median(vector_a)\n",
        "\n",
        "def phuongsai(vector_a):\n",
        "    return sta.variance(vector_a)\n",
        "\n",
        "def dolechchuan(vector_a):\n",
        "    return sta.stdev(vector_a)\n",
        "\n",
        "def yeuvi(vector_a):\n",
        "    return stats.mode(vector_a)"
      ],
      "metadata": {
        "id": "01wlnRW2Zvet"
      },
      "execution_count": 145,
      "outputs": []
    },
    {
      "cell_type": "code",
      "source": [
        "print(\"Giá trị trung bình : \\n\", np.apply_along_axis(trungbinh, 1, array))"
      ],
      "metadata": {
        "colab": {
          "base_uri": "https://localhost:8080/"
        },
        "id": "G5qCVNCDa_5_",
        "outputId": "da810a1c-4f38-46bc-b75f-b98f67505075"
      },
      "execution_count": 160,
      "outputs": [
        {
          "output_type": "stream",
          "name": "stdout",
          "text": [
            "Giá trị trung bình : \n",
            " [5.3 3.2 6.  4.5 5.5 6.2 5.4 4.8 3.7 4.9 4.1 5.6 5.3 3.1 5. ]\n"
          ]
        }
      ]
    },
    {
      "cell_type": "code",
      "source": [
        "print(\"Giá trị phương sai : \\n\", np.apply_along_axis(phuongsai, 1, array))"
      ],
      "metadata": {
        "colab": {
          "base_uri": "https://localhost:8080/"
        },
        "id": "jJ-tLj4geH6x",
        "outputId": "1d0273ec-dfe1-464b-d4dc-451bc0e0c89f"
      },
      "execution_count": 161,
      "outputs": [
        {
          "output_type": "stream",
          "name": "stdout",
          "text": [
            "Giá trị phương sai : \n",
            " [ 5  7 10 10  9  6  8 14  9 12 13 10  6  9 10]\n"
          ]
        }
      ]
    },
    {
      "cell_type": "code",
      "source": [
        "print(\"Giá trị trung vị : \\n\", np.apply_along_axis(trungvi, 1, array))"
      ],
      "metadata": {
        "colab": {
          "base_uri": "https://localhost:8080/"
        },
        "id": "KcpcCuTAemuM",
        "outputId": "810ffae1-e7cb-41b9-d8a6-947e8c0a82f0"
      },
      "execution_count": 162,
      "outputs": [
        {
          "output_type": "stream",
          "name": "stdout",
          "text": [
            "Giá trị trung vị : \n",
            " [5.  2.5 6.5 4.5 6.  7.  5.5 5.  3.5 5.  3.  6.  6.  2.5 4.5]\n"
          ]
        }
      ]
    },
    {
      "cell_type": "code",
      "source": [
        "print(\"Giá trị độ lệch chuẩn : \\n\", np.apply_along_axis(dolechchuan, 1, array))"
      ],
      "metadata": {
        "colab": {
          "base_uri": "https://localhost:8080/"
        },
        "id": "YwiQxsFSem3Z",
        "outputId": "129c0571-c556-449b-dd19-920f7148978a"
      },
      "execution_count": 163,
      "outputs": [
        {
          "output_type": "stream",
          "name": "stdout",
          "text": [
            "Giá trị độ lệch chuẩn : \n",
            " [2.23606798 2.64575131 3.16227766 3.16227766 3.         2.44948974\n",
            " 2.82842712 3.74165739 3.         3.46410162 3.60555128 3.16227766\n",
            " 2.44948974 3.         3.16227766]\n"
          ]
        }
      ]
    },
    {
      "cell_type": "code",
      "source": [
        "print(\"Giá trị yếu vị : \\n\", np.apply_along_axis(yeuvi, 1, array))"
      ],
      "metadata": {
        "colab": {
          "base_uri": "https://localhost:8080/"
        },
        "id": "0lLc3PDrenBh",
        "outputId": "6f1b2abe-b23d-46fd-c2eb-fdf124144dd6"
      },
      "execution_count": 164,
      "outputs": [
        {
          "output_type": "stream",
          "name": "stdout",
          "text": [
            "Giá trị yếu vị : \n",
            " [[[3]\n",
            "  [2]]\n",
            "\n",
            " [[1]\n",
            "  [2]]\n",
            "\n",
            " [[9]\n",
            "  [4]]\n",
            "\n",
            " [[0]\n",
            "  [2]]\n",
            "\n",
            " [[4]\n",
            "  [2]]\n",
            "\n",
            " [[8]\n",
            "  [3]]\n",
            "\n",
            " [[5]\n",
            "  [2]]\n",
            "\n",
            " [[9]\n",
            "  [3]]\n",
            "\n",
            " [[0]\n",
            "  [2]]\n",
            "\n",
            " [[0]\n",
            "  [2]]\n",
            "\n",
            " [[0]\n",
            "  [2]]\n",
            "\n",
            " [[9]\n",
            "  [3]]\n",
            "\n",
            " [[6]\n",
            "  [3]]\n",
            "\n",
            " [[0]\n",
            "  [2]]\n",
            "\n",
            " [[9]\n",
            "  [3]]]\n"
          ]
        }
      ]
    },
    {
      "cell_type": "code",
      "source": [
        "print(\"Giá trị trung bình : \\n\", np.apply_along_axis(trungbinh, 0, array))"
      ],
      "metadata": {
        "colab": {
          "base_uri": "https://localhost:8080/"
        },
        "id": "G8LgybTifCVO",
        "outputId": "d94e80ed-6af6-4c8a-a619-3c3f9ed73cf2"
      },
      "execution_count": 170,
      "outputs": [
        {
          "output_type": "stream",
          "name": "stdout",
          "text": [
            "Giá trị trung bình : \n",
            " [5.06666667 4.66666667 3.4        4.46666667 5.73333333 5.2\n",
            " 5.26666667 5.6        4.53333333 4.46666667]\n"
          ]
        }
      ]
    },
    {
      "cell_type": "code",
      "source": [
        "print(\"Giá trị phương sai : \\n\", np.apply_along_axis(phuongsai, 0, array))"
      ],
      "metadata": {
        "colab": {
          "base_uri": "https://localhost:8080/"
        },
        "id": "SB96k1upfCbL",
        "outputId": "336e2993-286e-45ea-d748-6a41414ae1dd"
      },
      "execution_count": 169,
      "outputs": [
        {
          "output_type": "stream",
          "name": "stdout",
          "text": [
            "Giá trị phương sai : \n",
            " [10  8  8  4 10  9  7 12 12 13]\n"
          ]
        }
      ]
    },
    {
      "cell_type": "code",
      "source": [
        "print(\"Giá trị trung vị : \\n\", np.apply_along_axis(trungvi, 0, array))"
      ],
      "metadata": {
        "colab": {
          "base_uri": "https://localhost:8080/"
        },
        "id": "QnoiCl8DfCgP",
        "outputId": "f23f1efd-1694-49ad-8dcf-131ce461a845"
      },
      "execution_count": 168,
      "outputs": [
        {
          "output_type": "stream",
          "name": "stdout",
          "text": [
            "Giá trị trung vị : \n",
            " [6. 4. 3. 4. 6. 5. 5. 6. 3. 4.]\n"
          ]
        }
      ]
    },
    {
      "cell_type": "code",
      "source": [
        "print(\"Giá trị độ lệch chuẩn : \\n\", np.apply_along_axis(dolechchuan, 0, array))"
      ],
      "metadata": {
        "colab": {
          "base_uri": "https://localhost:8080/"
        },
        "id": "8yuVBMe9fClP",
        "outputId": "ae9a3a4d-3ce5-45de-c8a8-e95bd2ca6ddd"
      },
      "execution_count": 166,
      "outputs": [
        {
          "output_type": "stream",
          "name": "stdout",
          "text": [
            "Giá trị độ lệch chuẩn : \n",
            " [3.16227766 2.82842712 2.82842712 2.         3.16227766 3.\n",
            " 2.64575131 3.46410162 3.46410162 3.60555128]\n"
          ]
        }
      ]
    },
    {
      "cell_type": "code",
      "source": [
        "print(\"Giá trị yếu vị : \\n\", np.apply_along_axis(yeuvi, 0, array))"
      ],
      "metadata": {
        "colab": {
          "base_uri": "https://localhost:8080/"
        },
        "id": "SK_UVaVxfCrO",
        "outputId": "a80e8356-b773-4655-d554-b5cfdf7fe786"
      },
      "execution_count": 165,
      "outputs": [
        {
          "output_type": "stream",
          "name": "stdout",
          "text": [
            "Giá trị yếu vị : \n",
            " [[[9 3 1 2 9 9 4 9 2 0]]\n",
            "\n",
            " [[3 3 5 3 6 3 3 5 4 4]]]\n"
          ]
        }
      ]
    }
  ]
}