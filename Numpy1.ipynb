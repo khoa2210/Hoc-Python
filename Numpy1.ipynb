{
  "nbformat": 4,
  "nbformat_minor": 0,
  "metadata": {
    "colab": {
      "name": "Numpy1.ipynb",
      "provenance": [],
      "authorship_tag": "ABX9TyMjt0hbC85W8Mhyfz02J5YF",
      "include_colab_link": true
    },
    "kernelspec": {
      "name": "python3",
      "display_name": "Python 3"
    },
    "language_info": {
      "name": "python"
    }
  },
  "cells": [
    {
      "cell_type": "markdown",
      "metadata": {
        "id": "view-in-github",
        "colab_type": "text"
      },
      "source": [
        "<a href=\"https://colab.research.google.com/github/khoa2210/Hoc-Python/blob/main/Numpy1.ipynb\" target=\"_parent\"><img src=\"https://colab.research.google.com/assets/colab-badge.svg\" alt=\"Open In Colab\"/></a>"
      ]
    },
    {
      "cell_type": "markdown",
      "source": [
        "Bài 1: Xét không gian R3 , một điểm A trong không gian này có tọa độ là (5, 7, 14). Hãy khởi tạo giá trị của điểm A nêu trên bằng Numpy."
      ],
      "metadata": {
        "id": "Qwy4WhLQqnyQ"
      }
    },
    {
      "cell_type": "code",
      "source": [
        "import numpy as np\n"
      ],
      "metadata": {
        "id": "P6CvZcL4qn5Y"
      },
      "execution_count": 2,
      "outputs": []
    },
    {
      "cell_type": "code",
      "source": [
        "a = np.array([5,7,14])\n",
        "print(a)"
      ],
      "metadata": {
        "colab": {
          "base_uri": "https://localhost:8080/"
        },
        "id": "BybgmJ-trC3f",
        "outputId": "b3500fb6-92a1-475e-c3cc-97f8e33081b3"
      },
      "execution_count": 76,
      "outputs": [
        {
          "output_type": "stream",
          "name": "stdout",
          "text": [
            "[ 5  7 14]\n"
          ]
        }
      ]
    },
    {
      "cell_type": "markdown",
      "source": [
        "Bài 2: Mở rộng không gian lên R15, điểm A trong không gian này có tọa độ là (1, 2, 3, 4, 5, 6, 7,\n",
        "8, 9, 10, 11, 12, 13, 14, 15). Hãy khởi tạo điểm A trong không gian 15 chiều này bằng Numpy."
      ],
      "metadata": {
        "id": "jAnKyL6rrPSd"
      }
    },
    {
      "cell_type": "code",
      "source": [
        "a = np.arange(1,16)\n",
        "print(a)"
      ],
      "metadata": {
        "colab": {
          "base_uri": "https://localhost:8080/"
        },
        "id": "aZ4fAezirPaF",
        "outputId": "7e52c813-8887-4019-ea23-2732ed5c6017"
      },
      "execution_count": 77,
      "outputs": [
        {
          "output_type": "stream",
          "name": "stdout",
          "text": [
            "[ 1  2  3  4  5  6  7  8  9 10 11 12 13 14 15]\n"
          ]
        }
      ]
    },
    {
      "cell_type": "markdown",
      "source": [
        "Bài 3: "
      ],
      "metadata": {
        "id": "lH0f1UYvrz-_"
      }
    },
    {
      "cell_type": "code",
      "source": [
        "num = int(input(\"Nhập 1 số dương : \"))\n",
        "# Vecto hàng\n",
        "a = np.array(np.random.random(num))\n",
        "# Vecto cột\n",
        "b = np.transpose([np.random.random(num)])\n",
        "print(a)\n",
        "print(b)"
      ],
      "metadata": {
        "colab": {
          "base_uri": "https://localhost:8080/"
        },
        "id": "TZs162Arr0C7",
        "outputId": "2b90b459-ab8a-41f6-8ee3-633031cb2ec6"
      },
      "execution_count": 61,
      "outputs": [
        {
          "output_type": "stream",
          "name": "stdout",
          "text": [
            "Nhập 1 số dương : 3\n",
            "[0.27630267 0.77862697 0.46239646]\n",
            "[[0.09893788]\n",
            " [0.01014594]\n",
            " [0.72239064]]\n"
          ]
        }
      ]
    },
    {
      "cell_type": "markdown",
      "source": [
        "Bài 4"
      ],
      "metadata": {
        "id": "War1acvY4p3w"
      }
    },
    {
      "cell_type": "code",
      "source": [
        "import numpy as np\n",
        "\n",
        "v = np.transpose([np.array([7,-5,8])])\n",
        "# Chiều dài vector\n",
        "magnitude = np.linalg.norm(v)\n",
        "print(magnitude)"
      ],
      "metadata": {
        "colab": {
          "base_uri": "https://localhost:8080/"
        },
        "id": "U8K_K6m14p9b",
        "outputId": "da38c4f9-621a-4726-8111-c911bc97d584"
      },
      "execution_count": 47,
      "outputs": [
        {
          "output_type": "stream",
          "name": "stdout",
          "text": [
            "11.74734012447073\n"
          ]
        }
      ]
    },
    {
      "cell_type": "markdown",
      "source": [
        "Bài 5:"
      ],
      "metadata": {
        "id": "YmhM7bP96-N6"
      }
    },
    {
      "cell_type": "code",
      "source": [
        "a = np.random.random(2)\n",
        "b = np.random.random(2)\n",
        "# Vector AB\n",
        "v = np.array(b - a)\n",
        "print(v)\n",
        "# Chiều dài vector\n",
        "magnitude = np.linalg.norm(v)\n",
        "print(magnitude)"
      ],
      "metadata": {
        "colab": {
          "base_uri": "https://localhost:8080/"
        },
        "id": "kdzREfi_6-R9",
        "outputId": "e765a122-6291-4a2a-87f3-95824d8490ec"
      },
      "execution_count": 60,
      "outputs": [
        {
          "output_type": "stream",
          "name": "stdout",
          "text": [
            "[ 0.8561451  -0.41259073]\n",
            "0.9503765280054975\n"
          ]
        }
      ]
    },
    {
      "cell_type": "markdown",
      "source": [
        "Bài 6:"
      ],
      "metadata": {
        "id": "s6NBoVll-FxE"
      }
    },
    {
      "cell_type": "code",
      "source": [
        "num = int(input(\"Nhập 1 số dương : \"))\n",
        "a = np.array(np.random.random(num))\n",
        "b = np.array(np.random.random(num))\n",
        "np.inner(a, b)"
      ],
      "metadata": {
        "colab": {
          "base_uri": "https://localhost:8080/"
        },
        "id": "h-yFiqKy-F24",
        "outputId": "d17fc6d4-c3e8-4b9b-ae54-9f41dae162f8"
      },
      "execution_count": 64,
      "outputs": [
        {
          "name": "stdout",
          "output_type": "stream",
          "text": [
            "Nhập 1 số dương : 3\n"
          ]
        },
        {
          "output_type": "execute_result",
          "data": {
            "text/plain": [
              "0.998269358663775"
            ]
          },
          "metadata": {},
          "execution_count": 64
        }
      ]
    },
    {
      "cell_type": "markdown",
      "source": [
        "Bài 7 "
      ],
      "metadata": {
        "id": "nx7r-pUpDjkN"
      }
    },
    {
      "cell_type": "code",
      "source": [
        "num = int(input(\"Nhập 1 số dương : \"))\n",
        "a = np.array(np.random.random(num))\n",
        "b = np.array(np.random.random(num))\n",
        "np.cross(a,b)"
      ],
      "metadata": {
        "colab": {
          "base_uri": "https://localhost:8080/"
        },
        "id": "WnwHYt2cDjot",
        "outputId": "6b163cd7-dc69-4b7b-97c2-ea9f565e5b01"
      },
      "execution_count": 66,
      "outputs": [
        {
          "name": "stdout",
          "output_type": "stream",
          "text": [
            "Nhập 1 số dương : 3\n"
          ]
        },
        {
          "output_type": "execute_result",
          "data": {
            "text/plain": [
              "array([-0.13110071,  0.16846375,  0.15807733])"
            ]
          },
          "metadata": {},
          "execution_count": 66
        }
      ]
    },
    {
      "cell_type": "markdown",
      "source": [
        "Bài 8"
      ],
      "metadata": {
        "id": "NptBOwaNECg-"
      }
    },
    {
      "cell_type": "code",
      "source": [
        "num = int(input(\"Nhập 1 số dương : \"))\n",
        "a = np.array([np.random.random(num)])\n",
        "b = np.transpose(a)\n",
        "print(a)\n",
        "print(b)"
      ],
      "metadata": {
        "colab": {
          "base_uri": "https://localhost:8080/"
        },
        "id": "nj03S7dyECnW",
        "outputId": "48566f7d-a560-4a69-905b-d4030513034a"
      },
      "execution_count": 70,
      "outputs": [
        {
          "output_type": "stream",
          "name": "stdout",
          "text": [
            "Nhập 1 số dương : 3\n",
            "[[0.46917588 0.65671935 0.33356154]]\n",
            "[[0.46917588]\n",
            " [0.65671935]\n",
            " [0.33356154]]\n"
          ]
        }
      ]
    },
    {
      "cell_type": "markdown",
      "source": [
        "Bài 9 "
      ],
      "metadata": {
        "id": "76o1ZZy0Ektl"
      }
    },
    {
      "cell_type": "code",
      "source": [
        "a = [1, 2, 3, 4, 5]\n",
        "print(a)"
      ],
      "metadata": {
        "colab": {
          "base_uri": "https://localhost:8080/"
        },
        "id": "CeQiruOZEk0F",
        "outputId": "c6a947d8-6f20-4c90-97ec-87306a9f9eeb"
      },
      "execution_count": 72,
      "outputs": [
        {
          "output_type": "stream",
          "name": "stdout",
          "text": [
            "[1, 2, 3, 4, 5]\n"
          ]
        }
      ]
    },
    {
      "cell_type": "code",
      "source": [
        "b = [[1], [2], [3], [4], [5]]\n",
        "print(b)"
      ],
      "metadata": {
        "colab": {
          "base_uri": "https://localhost:8080/"
        },
        "id": "RkZ54eIIFvJi",
        "outputId": "68126a45-7dbb-4ab0-9209-07d7b0e9be19"
      },
      "execution_count": 73,
      "outputs": [
        {
          "output_type": "stream",
          "name": "stdout",
          "text": [
            "[[1], [2], [3], [4], [5]]\n"
          ]
        }
      ]
    },
    {
      "cell_type": "code",
      "source": [
        "c = np.array([[1,2,3,4,5]])\n",
        "print(c)"
      ],
      "metadata": {
        "colab": {
          "base_uri": "https://localhost:8080/"
        },
        "id": "pOdDPAV4FzQy",
        "outputId": "5fa6e612-9407-4dc3-e2f2-dcb8ee213111"
      },
      "execution_count": 81,
      "outputs": [
        {
          "output_type": "stream",
          "name": "stdout",
          "text": [
            "[[1 2 3 4 5]]\n"
          ]
        }
      ]
    },
    {
      "cell_type": "code",
      "source": [
        "d = np.transpose(c)\n",
        "print(d)"
      ],
      "metadata": {
        "colab": {
          "base_uri": "https://localhost:8080/"
        },
        "id": "pipvHrLqFzUK",
        "outputId": "7f6d5b55-b94c-49ad-b8e2-44d2930bb26d"
      },
      "execution_count": 88,
      "outputs": [
        {
          "output_type": "stream",
          "name": "stdout",
          "text": [
            "[[1]\n",
            " [2]\n",
            " [3]\n",
            " [4]\n",
            " [5]]\n"
          ]
        }
      ]
    },
    {
      "cell_type": "code",
      "source": [
        "e = np.array([[1],[2],[3],[4],[5]])\n",
        "print(e)"
      ],
      "metadata": {
        "colab": {
          "base_uri": "https://localhost:8080/"
        },
        "id": "aVGpeQDCHif1",
        "outputId": "f66f6fb5-5e46-4bbf-dbb9-24773429a0ac"
      },
      "execution_count": 89,
      "outputs": [
        {
          "output_type": "stream",
          "name": "stdout",
          "text": [
            "[[1]\n",
            " [2]\n",
            " [3]\n",
            " [4]\n",
            " [5]]\n"
          ]
        }
      ]
    },
    {
      "cell_type": "code",
      "source": [
        "f = np.transpose(e)\n",
        "print(f)"
      ],
      "metadata": {
        "colab": {
          "base_uri": "https://localhost:8080/"
        },
        "id": "ff79rG8nHiiF",
        "outputId": "76620309-9102-4f7c-aa43-29a309aa2bd7"
      },
      "execution_count": 90,
      "outputs": [
        {
          "output_type": "stream",
          "name": "stdout",
          "text": [
            "[[1 2 3 4 5]]\n"
          ]
        }
      ]
    },
    {
      "cell_type": "markdown",
      "source": [
        "Bài 10"
      ],
      "metadata": {
        "id": "taPabGdMGhLw"
      }
    },
    {
      "cell_type": "code",
      "source": [
        "num = int(input(\"Nhập 1 số dương : \"))\n",
        "a = np.array([np.random.random(num)])\n",
        "b = np.array([np.random.random(num)])"
      ],
      "metadata": {
        "colab": {
          "base_uri": "https://localhost:8080/"
        },
        "id": "_ZovVnBhGhR6",
        "outputId": "d7d02e65-825c-4119-9a12-eec24cac7cbb"
      },
      "execution_count": 91,
      "outputs": [
        {
          "name": "stdout",
          "output_type": "stream",
          "text": [
            "Nhập 1 số dương : 3\n"
          ]
        }
      ]
    },
    {
      "cell_type": "code",
      "source": [
        "# Nhân vector\n",
        "print(a*3)"
      ],
      "metadata": {
        "colab": {
          "base_uri": "https://localhost:8080/"
        },
        "id": "6M341pXtG3_G",
        "outputId": "ad59cf34-8e9f-4ee0-ef42-0e3a63c7527a"
      },
      "execution_count": 92,
      "outputs": [
        {
          "output_type": "stream",
          "name": "stdout",
          "text": [
            "[[1.5166624  2.76168156 2.39469887]]\n"
          ]
        }
      ]
    },
    {
      "cell_type": "code",
      "source": [
        "# Cộng 2 vector\n",
        "print(a + b)"
      ],
      "metadata": {
        "colab": {
          "base_uri": "https://localhost:8080/"
        },
        "id": "4N54fzkpHCSv",
        "outputId": "5dd57aef-3482-46a1-8d6c-eaec7100139f"
      },
      "execution_count": 93,
      "outputs": [
        {
          "output_type": "stream",
          "name": "stdout",
          "text": [
            "[[0.56627038 0.93374026 0.961363  ]]\n"
          ]
        }
      ]
    }
  ]
}