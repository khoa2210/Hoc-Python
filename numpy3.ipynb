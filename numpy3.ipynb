{
  "nbformat": 4,
  "nbformat_minor": 0,
  "metadata": {
    "colab": {
      "name": "numpy3.ipynb",
      "provenance": [],
      "authorship_tag": "ABX9TyN5VnajqoY7RLSebDNNdbxA",
      "include_colab_link": true
    },
    "kernelspec": {
      "name": "python3",
      "display_name": "Python 3"
    },
    "language_info": {
      "name": "python"
    }
  },
  "cells": [
    {
      "cell_type": "markdown",
      "metadata": {
        "id": "view-in-github",
        "colab_type": "text"
      },
      "source": [
        "<a href=\"https://colab.research.google.com/github/khoa2210/Hoc-Python/blob/main/numpy3.ipynb\" target=\"_parent\"><img src=\"https://colab.research.google.com/assets/colab-badge.svg\" alt=\"Open In Colab\"/></a>"
      ]
    },
    {
      "cell_type": "markdown",
      "source": [
        "Câu 1: Hãy trình bày cú pháp của hàm apply_along_axis() và ý nghĩa của từng tham số của hàm\n",
        "này."
      ],
      "metadata": {
        "id": "ahsTzfGslnAA"
      }
    },
    {
      "cell_type": "markdown",
      "source": [
        "Cú pháp:\n",
        "\n",
        "numpy.apply_along_axis(1d_func, axis, array, *args, **kwargs) \n",
        " \n",
        "Trong đó \n",
        "\n",
        "1d_func: hàm bắt buộc để thực hiện trên mảng.\n",
        "\n",
        "axis: trục  dọc\n",
        "\n",
        "array: mảng đầu vào\n",
        "\n",
        "*args: Các đối số bổ sung cho chức năng \n",
        "\n",
        "** kwargs: Các đối số bổ sung cho chức năng  "
      ],
      "metadata": {
        "id": "IUeFaKhtlsEb"
      }
    },
    {
      "cell_type": "markdown",
      "source": [
        "Câu 2: Tạo một ma trận A15x17 có giá trị ngẫu nhiên"
      ],
      "metadata": {
        "id": "s4sML173m6VS"
      }
    },
    {
      "cell_type": "code",
      "source": [
        "import numpy as np"
      ],
      "metadata": {
        "id": "nJnSqUkKnIUc"
      },
      "execution_count": null,
      "outputs": []
    },
    {
      "cell_type": "code",
      "source": [
        "array = np.random.randint(100, size=(15, 17))\n",
        "print(array)"
      ],
      "metadata": {
        "colab": {
          "base_uri": "https://localhost:8080/"
        },
        "id": "b57KuefAm6Z_",
        "outputId": "5eb6562d-040b-4ed1-a6d5-8b87e9a6a2c7"
      },
      "execution_count": null,
      "outputs": [
        {
          "output_type": "stream",
          "name": "stdout",
          "text": [
            "[[13 45 54 23 18 16 21 18 64 37 92 32 63 46 18 26 31]\n",
            " [30 10 70 39 47 26 45  5 66 97 69  4 17 85 98 36 73]\n",
            " [74 61  4 93  3 96 55 15  4 69 99 86 54 99 10 10 46]\n",
            " [70 36 83 28 98 64 38 40 18 29 22 42 97 47 52 15  8]\n",
            " [ 8 76 88  3 82  0 97 47 54 67 33 14 92 43 40 90 27]\n",
            " [80  8  0 71 52 59 31 26 15  6 36 12 14 92 24 69  3]\n",
            " [65 55 61 78 23 22 45 57 67 63  7 14 66 95 23 74 55]\n",
            " [86 99 77  3 78 51 13 79 69 53 85 89 61  7 33 85 79]\n",
            " [50 52 22 94 29 94 59 51 19 17 65  1  8 21 94 56 32]\n",
            " [32 54 46 92 51 87 17  9 45 43 16 99 92 13 27 85 47]\n",
            " [74 32 54 16 30  2 27 11 92 44 23 51 79 41 56 88 32]\n",
            " [76 98  7 66 29 25 88 95 61 65 67 23 92 29 36 69 17]\n",
            " [37  4 50 63 74 31 96 65 39 50  4 11 63 53 14 89 89]\n",
            " [50 17 61  2 14 20  1 67 89 20 72 26  5 86  5 80 45]\n",
            " [51 81 57 28 78 99 47 99 89 74 43 43 22 20 36 26 68]]\n"
          ]
        }
      ]
    },
    {
      "cell_type": "markdown",
      "source": [
        "Câu 3: Xây dựng hàm tìm giá trị lớn nhất có tên là tim_gia_tri_lon_nhat(vector_a) có tham số\n",
        "đầu vào là 1 vector a và giá trị trả về là giá trị phần tử lớn nhất của vector này. Áp dụng hàm này\n",
        "theo từng hàng của ma trận A ở Câu 1 và xuất kết quả ra màn hình."
      ],
      "metadata": {
        "id": "C_bBI4C3nOZM"
      }
    },
    {
      "cell_type": "code",
      "source": [
        "def tim_gia_tri_lon_nhat(vector_a):\n",
        "    return np.max(vector_a)"
      ],
      "metadata": {
        "id": "tRZSqolanOdr"
      },
      "execution_count": 26,
      "outputs": []
    },
    {
      "cell_type": "code",
      "source": [
        "print(\"Giá trị lớn nhất : \\n\", np.apply_along_axis(tim_gia_tri_lon_nhat, 1, array))"
      ],
      "metadata": {
        "colab": {
          "base_uri": "https://localhost:8080/"
        },
        "id": "Gz9ObbVopGIL",
        "outputId": "16cd8321-b7eb-4417-fe49-4e5d3cd093b6"
      },
      "execution_count": 28,
      "outputs": [
        {
          "output_type": "stream",
          "name": "stdout",
          "text": [
            "Giá trị lớn nhất : \n",
            " [92 98 99 98 97 92 95 99 94 99 92 98 96 89 99]\n"
          ]
        }
      ]
    },
    {
      "cell_type": "markdown",
      "source": [
        "Câu 4: Xây dựng hàm tìm giá trị nhỏ nhất có tên là tim_gia_tri_nho_nhat(vector_a) có tham số\n",
        "đầu vào là 1 vector a và giá trị trả về là giá trị phần tử nhỏ nhất của vector này. Áp dụng hàm này\n",
        "theo từng cột của ma trận A ở Câu 1 và xuất kết quả ra màn hình."
      ],
      "metadata": {
        "id": "HffNWLfy7OeW"
      }
    },
    {
      "cell_type": "code",
      "source": [
        "def tim_gia_tri_nho_nhat(vector_a):\n",
        "    return np.min(vector_a)"
      ],
      "metadata": {
        "id": "zZ7RjGu27Oiw"
      },
      "execution_count": 29,
      "outputs": []
    },
    {
      "cell_type": "code",
      "source": [
        "print(\"Giá trị nhỏ nhất : \\n\", np.apply_along_axis(tim_gia_tri_nho_nhat, 0, array))"
      ],
      "metadata": {
        "colab": {
          "base_uri": "https://localhost:8080/"
        },
        "id": "K1c-u3W77WAH",
        "outputId": "736ae207-b64c-4b45-cd4d-6cd33a4b4cd8"
      },
      "execution_count": 30,
      "outputs": [
        {
          "output_type": "stream",
          "name": "stdout",
          "text": [
            "Giá trị nhỏ nhất : \n",
            " [ 8  4  0  2  3  0  1  5  4  6  4  1  5  7  5 10  3]\n"
          ]
        }
      ]
    },
    {
      "cell_type": "markdown",
      "source": [
        "Câu 5: Xây dựng hàm tìm giá trị lớn nhất có tên là tinh_tong(vector_a) có tham số đầu vào là 1\n",
        "vector a và giá trị trả về là tổng các phần tử của vector này. Áp dụng hàm này theo từng hàng của\n",
        "ma trận A ở Câu 1 và xuất kết quả ra màn hình."
      ],
      "metadata": {
        "id": "eMPw90tA7cFt"
      }
    },
    {
      "cell_type": "code",
      "source": [
        "def tinh_tong(vector_a):\n",
        "    return np.sum(vector_a)"
      ],
      "metadata": {
        "id": "LUoqiMsp7cOU"
      },
      "execution_count": 31,
      "outputs": []
    },
    {
      "cell_type": "code",
      "source": [
        "print(\"Giá trị tổng : \\n\", np.apply_along_axis(tinh_tong, 1, array))"
      ],
      "metadata": {
        "colab": {
          "base_uri": "https://localhost:8080/"
        },
        "id": "dE3vrXDf7pOP",
        "outputId": "1d24da73-2b7c-4e94-9e9b-1e5810165b29"
      },
      "execution_count": 32,
      "outputs": [
        {
          "output_type": "stream",
          "name": "stdout",
          "text": [
            "Giá trị tổng : \n",
            " [ 617  817  878  787  861  598  870 1047  764  855  752  943  832  660\n",
            "  961]\n"
          ]
        }
      ]
    },
    {
      "cell_type": "markdown",
      "source": [
        "Câu 6: Xây dựng hàm tìm giá trị lớn nhất có tên là tinh_tong_2(vector_a) có tham số đầu vào là\n",
        "1 vector a và giá trị trả về là tổng các phần tử có chỉ số lẻ (1 – 3 – 5 , .v.v.) của vector này. Áp\n",
        "dụng hàm này theo từng cột của ma trận A ở Câu 1 và xuất kết quả ra màn hình. Tiếp tục áp dụng\n",
        "hàm này theo từng hàng của ma trận A kể trên và xuất kết quả ra màn hình."
      ],
      "metadata": {
        "id": "NEcgDbzB7xb1"
      }
    },
    {
      "cell_type": "code",
      "source": [
        "def tinh_tong1(vector_a):\n",
        "  return sum(n for n in vector_a if n % 2 != 0)"
      ],
      "metadata": {
        "id": "Xhjz7a2u7xid"
      },
      "execution_count": 87,
      "outputs": []
    },
    {
      "cell_type": "code",
      "source": [
        "print(\"Giá trị tổng : \\n\", np.apply_along_axis(tinh_tong1, 1, array))"
      ],
      "metadata": {
        "colab": {
          "base_uri": "https://localhost:8080/"
        },
        "id": "bb8UxSPI8Teb",
        "outputId": "7babe84e-55eb-42e6-fac7-a2c6d8b6d6e3"
      },
      "execution_count": 88,
      "outputs": [
        {
          "output_type": "stream",
          "name": "stdout",
          "text": [
            "Giá trị tổng : \n",
            " [233 477 494 271 317 248 616 883 262 523 232 487 540 290 609]\n"
          ]
        }
      ]
    }
  ]
}