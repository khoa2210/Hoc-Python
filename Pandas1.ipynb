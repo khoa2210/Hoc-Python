{
  "nbformat": 4,
  "nbformat_minor": 0,
  "metadata": {
    "colab": {
      "name": "Pandas1.ipynb",
      "provenance": [],
      "authorship_tag": "ABX9TyNS6Yb8OWl+e0xGrNIkjl/u",
      "include_colab_link": true
    },
    "kernelspec": {
      "name": "python3",
      "display_name": "Python 3"
    },
    "language_info": {
      "name": "python"
    }
  },
  "cells": [
    {
      "cell_type": "markdown",
      "metadata": {
        "id": "view-in-github",
        "colab_type": "text"
      },
      "source": [
        "<a href=\"https://colab.research.google.com/github/khoa2210/Hoc-Python/blob/main/Pandas1.ipynb\" target=\"_parent\"><img src=\"https://colab.research.google.com/assets/colab-badge.svg\" alt=\"Open In Colab\"/></a>"
      ]
    },
    {
      "cell_type": "markdown",
      "source": [
        "Câu 1: Khởi tạo 1 Series với giá trị rỗng"
      ],
      "metadata": {
        "id": "LepZDLzTaRM1"
      }
    },
    {
      "cell_type": "code",
      "source": [
        "import pandas as pd\n",
        "  \n",
        "ser = pd.Series()\n",
        "  \n",
        "print(ser)"
      ],
      "metadata": {
        "colab": {
          "base_uri": "https://localhost:8080/"
        },
        "id": "EiOXy4yuaSQ_",
        "outputId": "a6d7ce28-cee1-43a1-cd93-c0d85d233e37"
      },
      "execution_count": null,
      "outputs": [
        {
          "output_type": "stream",
          "name": "stdout",
          "text": [
            "Series([], dtype: float64)\n"
          ]
        },
        {
          "output_type": "stream",
          "name": "stderr",
          "text": [
            "/usr/local/lib/python3.7/dist-packages/ipykernel_launcher.py:3: DeprecationWarning: The default dtype for empty Series will be 'object' instead of 'float64' in a future version. Specify a dtype explicitly to silence this warning.\n",
            "  This is separate from the ipykernel package so we can avoid doing imports until\n"
          ]
        }
      ]
    },
    {
      "cell_type": "markdown",
      "source": [
        "Câu 2: Giả sử có 1 vector hàng a có kích thước (1x7) được biểu diễn trong NumPy, hãy tạo 1\n",
        "series tương ứng với các giá trị được sinh ngẫu nhiên."
      ],
      "metadata": {
        "id": "QXuyRoX8alGt"
      }
    },
    {
      "cell_type": "code",
      "source": [
        "import numpy as np \n",
        "array = np.random.rand(7) \n",
        "series = pd.Series(array)\n",
        "print(\"Pandas Series : \")\n",
        "display(series)"
      ],
      "metadata": {
        "id": "X1cJgaMaalL2",
        "colab": {
          "base_uri": "https://localhost:8080/",
          "height": 173
        },
        "outputId": "e02f4934-c51b-4b32-b0fa-32b267d8ba32"
      },
      "execution_count": null,
      "outputs": [
        {
          "output_type": "stream",
          "name": "stdout",
          "text": [
            "Pandas Series : \n"
          ]
        },
        {
          "output_type": "display_data",
          "data": {
            "text/plain": [
              "0    0.249352\n",
              "1    0.254065\n",
              "2    0.654680\n",
              "3    0.324318\n",
              "4    0.985168\n",
              "5    0.165289\n",
              "6    0.700550\n",
              "dtype: float64"
            ]
          },
          "metadata": {}
        }
      ]
    },
    {
      "cell_type": "markdown",
      "source": [
        "Câu 3: Giả sử có 1 vector hàng a có kích thước (1x7), hãy nhập các giá trị cho 7 phần tử này từ\n",
        "bàn phím và tạo series tương ứng."
      ],
      "metadata": {
        "id": "lnY7EWLYFYqo"
      }
    },
    {
      "cell_type": "code",
      "source": [
        "array = np.array(['K','H','T','E','W'])\n",
        "series = pd.Series(array)\n",
        "print(\"Pandas Series : \")\n",
        "display(series)"
      ],
      "metadata": {
        "colab": {
          "base_uri": "https://localhost:8080/",
          "height": 138
        },
        "id": "2DdYX9j8FYuU",
        "outputId": "9ffe2d28-430c-4844-f398-b6a01f7b2b12"
      },
      "execution_count": null,
      "outputs": [
        {
          "output_type": "stream",
          "name": "stdout",
          "text": [
            "Pandas Series : \n"
          ]
        },
        {
          "output_type": "display_data",
          "data": {
            "text/plain": [
              "0    K\n",
              "1    H\n",
              "2    T\n",
              "3    E\n",
              "4    W\n",
              "dtype: object"
            ]
          },
          "metadata": {}
        }
      ]
    },
    {
      "cell_type": "markdown",
      "source": [
        "Câu 4: Giả sử có 1 vector cột có kích thước (7x1) được biểu diễn trong NumPy, hãy tạo Series\n",
        "tương ứng."
      ],
      "metadata": {
        "id": "KIswo9UgF2Yd"
      }
    },
    {
      "cell_type": "code",
      "source": [
        "arr = np.array([[1,2,3,4,5,6,7]]).T\n",
        "print(arr)\n",
        "x = np.ndarray.flatten(arr)\n",
        "series = pd.Series(x)\n",
        "print(\"Pandas Series : \")\n",
        "display(series)"
      ],
      "metadata": {
        "colab": {
          "base_uri": "https://localhost:8080/",
          "height": 294
        },
        "id": "tHx1u-5YF2fm",
        "outputId": "33f4cef0-2764-4a7c-a372-293d16448efd"
      },
      "execution_count": null,
      "outputs": [
        {
          "output_type": "stream",
          "name": "stdout",
          "text": [
            "[[1]\n",
            " [2]\n",
            " [3]\n",
            " [4]\n",
            " [5]\n",
            " [6]\n",
            " [7]]\n",
            "Pandas Series : \n"
          ]
        },
        {
          "output_type": "display_data",
          "data": {
            "text/plain": [
              "0    1\n",
              "1    2\n",
              "2    3\n",
              "3    4\n",
              "4    5\n",
              "5    6\n",
              "6    7\n",
              "dtype: int64"
            ]
          },
          "metadata": {}
        }
      ]
    },
    {
      "cell_type": "markdown",
      "source": [
        "Câu 5: Chuyển đổi dữ liệu, hãy thực hiện các yêu cầu sau:\n",
        "- Chuyển 1 list thành 1 series"
      ],
      "metadata": {
        "id": "BO3XT3uNGn0S"
      }
    },
    {
      "cell_type": "code",
      "source": [
        "x = ['Khoa', 'Le', 'Dinh']\n",
        "y = pd.Series(x)\n",
        "print(y)"
      ],
      "metadata": {
        "id": "nxThR6HJGn5o",
        "colab": {
          "base_uri": "https://localhost:8080/"
        },
        "outputId": "d463ef76-7fd2-4693-c32a-8972b61efab6"
      },
      "execution_count": null,
      "outputs": [
        {
          "output_type": "stream",
          "name": "stdout",
          "text": [
            "0    Khoa\n",
            "1      Le\n",
            "2    Dinh\n",
            "dtype: object\n"
          ]
        }
      ]
    },
    {
      "cell_type": "markdown",
      "source": [
        "Chuyển 1 tuple thành 1 series"
      ],
      "metadata": {
        "id": "6NrYVsGediEB"
      }
    },
    {
      "cell_type": "code",
      "source": [
        "x = ('Mot','Hai','Ba',1,2,3)\n",
        "y = pd.Series(x)\n",
        "print(y)"
      ],
      "metadata": {
        "colab": {
          "base_uri": "https://localhost:8080/"
        },
        "id": "dRQxkRPidiKl",
        "outputId": "7c4b08e3-cf55-4d5c-cd18-50f06c2ea1cd"
      },
      "execution_count": null,
      "outputs": [
        {
          "output_type": "stream",
          "name": "stdout",
          "text": [
            "0    Mot\n",
            "1    Hai\n",
            "2     Ba\n",
            "3      1\n",
            "4      2\n",
            "5      3\n",
            "dtype: object\n"
          ]
        }
      ]
    },
    {
      "cell_type": "markdown",
      "source": [
        "Chuyển 1 dictionary thành 1 series"
      ],
      "metadata": {
        "id": "fhTesYN6eYEp"
      }
    },
    {
      "cell_type": "code",
      "source": [
        "thisdict = {\n",
        "  \"brand\": \"Ford\",\n",
        "  \"electric\": False,\n",
        "  \"year\": 1964,\n",
        "  \"colors\": [\"red\", \"white\", \"blue\"]\n",
        "}\n",
        "series = pd.Series(thisdict)\n",
        "print(series)"
      ],
      "metadata": {
        "colab": {
          "base_uri": "https://localhost:8080/"
        },
        "id": "dGsZz7uJeYOI",
        "outputId": "6dbfc0f1-9652-4429-fa62-c877dbfc1a69"
      },
      "execution_count": null,
      "outputs": [
        {
          "output_type": "stream",
          "name": "stdout",
          "text": [
            "brand                     Ford\n",
            "electric                 False\n",
            "year                      1964\n",
            "colors      [red, white, blue]\n",
            "dtype: object\n"
          ]
        }
      ]
    },
    {
      "cell_type": "markdown",
      "source": [
        "Câu 6: Mỗi phần tử của series đều gắn liền với các chỉ số (index) tương ứng, hãy tạo một series\n",
        "có kích thước (1x20) với giá trị ngẫu nhiên:\n",
        "- Xuất series ra màn hình\n",
        "- Xuất các chỉ số của series ra màn hình\n",
        "- Thay đổi cách đánh chỉ số mặc định của series từ đánh chỉ số bằng số nguyên sang các kiểu\n",
        "đánh chỉ số bằng label và in kết quả ra màn hình\n",
        "Gợi ý:\n",
        "- Hàm loc() dùng cho chỉ số label\n",
        "- Hàm iloc() dùng cho chỉ số đạng số nguyên\n",
        "- Hàm ix(): dùng cho cả 2 loại chỉ số trên"
      ],
      "metadata": {
        "id": "SHymlRdUe814"
      }
    },
    {
      "cell_type": "code",
      "source": [
        "import numpy as np \n",
        "array = np.random.rand(20) \n",
        "series = pd.Series(array,index=['a', 'b', 'c', 'd', 'e', 'f', 'g', 'h', 'j', 'k', 'm', 'n', 'i', 'o', 'p', 'y', 't', 'r', 'w', 'q'])\n",
        "print(\"Pandas Series : \")\n",
        "display(series)"
      ],
      "metadata": {
        "colab": {
          "base_uri": "https://localhost:8080/",
          "height": 398
        },
        "id": "DLdxtLxne88B",
        "outputId": "2d1b5223-138c-4112-8801-80db371bd491"
      },
      "execution_count": 52,
      "outputs": [
        {
          "output_type": "stream",
          "name": "stdout",
          "text": [
            "Pandas Series : \n"
          ]
        },
        {
          "output_type": "display_data",
          "data": {
            "text/plain": [
              "a    0.514713\n",
              "b    0.954377\n",
              "c    0.026704\n",
              "d    0.260958\n",
              "e    0.639596\n",
              "f    0.540972\n",
              "g    0.367488\n",
              "h    0.483159\n",
              "j    0.996246\n",
              "k    0.061998\n",
              "m    0.462747\n",
              "n    0.066018\n",
              "i    0.498313\n",
              "o    0.605877\n",
              "p    0.498356\n",
              "y    0.406590\n",
              "t    0.159563\n",
              "r    0.488523\n",
              "w    0.979183\n",
              "q    0.610071\n",
              "dtype: float64"
            ]
          },
          "metadata": {}
        }
      ]
    },
    {
      "cell_type": "markdown",
      "source": [
        "Câu 7: Giả sử có series có kích thước (1x10), giá trị ngẫu nhiên, index được đánh từ ‘a’ trở đi,\n",
        "hãy:\n",
        "- Trích xuất các phần tử của Series có chỉ số là ‘a’, ‘c’, ‘e’\n",
        "- Trích xuất các phần tử của Series có chỉ số từ 3 đến 6"
      ],
      "metadata": {
        "id": "oajsvK9738Te"
      }
    },
    {
      "cell_type": "code",
      "source": [
        "array = np.random.rand(10) "
      ],
      "metadata": {
        "id": "uUzMKO_n4Ald"
      },
      "execution_count": 55,
      "outputs": []
    },
    {
      "cell_type": "code",
      "source": [
        "series = pd.Series(array,index=['a', 'b', 'c', 'd', 'e', 'f', 'g', 'h', 'j', 'k'])\n",
        "display(series)"
      ],
      "metadata": {
        "colab": {
          "base_uri": "https://localhost:8080/",
          "height": 208
        },
        "id": "Ivbh0RTA4Au9",
        "outputId": "e9e20357-55dc-43d5-fce3-6bbed36684a7"
      },
      "execution_count": 57,
      "outputs": [
        {
          "output_type": "display_data",
          "data": {
            "text/plain": [
              "a    0.639616\n",
              "b    0.713545\n",
              "c    0.415492\n",
              "d    0.062965\n",
              "e    0.524257\n",
              "f    0.732288\n",
              "g    0.322339\n",
              "h    0.774135\n",
              "j    0.984369\n",
              "k    0.230131\n",
              "dtype: float64"
            ]
          },
          "metadata": {}
        }
      ]
    },
    {
      "cell_type": "code",
      "source": [
        "print(series['a'])\n",
        "print(series['c'])\n",
        "print(series['e'])"
      ],
      "metadata": {
        "colab": {
          "base_uri": "https://localhost:8080/"
        },
        "id": "UeJX07R24Sd5",
        "outputId": "b8389af1-63e9-422d-8f78-8bb2adc77e4f"
      },
      "execution_count": 61,
      "outputs": [
        {
          "output_type": "stream",
          "name": "stdout",
          "text": [
            "0.6396159957735473\n",
            "0.4154917749744015\n",
            "0.5242573549531339\n"
          ]
        }
      ]
    },
    {
      "cell_type": "code",
      "source": [
        "series.iloc[3:6]"
      ],
      "metadata": {
        "colab": {
          "base_uri": "https://localhost:8080/"
        },
        "id": "sFTGPm7N4SlR",
        "outputId": "c384693d-95cc-4b1a-84c6-94d2df07e7bc"
      },
      "execution_count": 62,
      "outputs": [
        {
          "output_type": "execute_result",
          "data": {
            "text/plain": [
              "d    0.062965\n",
              "e    0.524257\n",
              "f    0.732288\n",
              "dtype: float64"
            ]
          },
          "metadata": {},
          "execution_count": 62
        }
      ]
    }
  ]
}