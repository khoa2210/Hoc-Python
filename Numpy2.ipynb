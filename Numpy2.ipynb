{
  "nbformat": 4,
  "nbformat_minor": 0,
  "metadata": {
    "colab": {
      "name": "Numpy2.ipynb",
      "provenance": [],
      "authorship_tag": "ABX9TyO6y0o/3Si78VNNkVHZL6ko",
      "include_colab_link": true
    },
    "kernelspec": {
      "name": "python3",
      "display_name": "Python 3"
    },
    "language_info": {
      "name": "python"
    }
  },
  "cells": [
    {
      "cell_type": "markdown",
      "metadata": {
        "id": "view-in-github",
        "colab_type": "text"
      },
      "source": [
        "<a href=\"https://colab.research.google.com/github/khoa2210/Hoc-Python/blob/main/Numpy2.ipynb\" target=\"_parent\"><img src=\"https://colab.research.google.com/assets/colab-badge.svg\" alt=\"Open In Colab\"/></a>"
      ]
    },
    {
      "cell_type": "markdown",
      "source": [
        "Bài 1 :Sử dụng thư viện NumPy, hãy tạo ra một ma trận A ∈ R7×5 , giá trị các phần tử của ma trận được sinh ngẫu nhiên. Kết quả xuất ra màn hình."
      ],
      "metadata": {
        "id": "cC4Ok2ZWAryj"
      }
    },
    {
      "cell_type": "code",
      "source": [
        "import numpy as np"
      ],
      "metadata": {
        "id": "rt1PmIooBXzt"
      },
      "execution_count": 2,
      "outputs": []
    },
    {
      "cell_type": "code",
      "source": [
        "array = np.random.randint(100, size=(7, 5))\n",
        "print(array)"
      ],
      "metadata": {
        "colab": {
          "base_uri": "https://localhost:8080/"
        },
        "id": "igvrpvtIA6Op",
        "outputId": "a0187b3e-048c-4b39-c8c2-31a65af544c1"
      },
      "execution_count": 25,
      "outputs": [
        {
          "output_type": "stream",
          "name": "stdout",
          "text": [
            "[[78 94 83 52  9]\n",
            " [76 14  8 44 66]\n",
            " [31 10 64  7 99]\n",
            " [45  7 82 62 43]\n",
            " [17 35 33 56 49]\n",
            " [ 5 67 78  9 48]\n",
            " [84 88 94 61 42]]\n"
          ]
        }
      ]
    },
    {
      "cell_type": "markdown",
      "source": [
        "Bài 2 – Ma trận không (zero matrix): Ma trận Am×n được gọi là ma trận không khi ai,j = 0, ∀i,j.\n",
        "Sử dụng thư viện NumPy, hãy tạo một ma trận 0 - A6×7. Gợi ý: sử dụng hàm numpy.zeros((m,n)).\n",
        "Kết quả xuất ra màn hình."
      ],
      "metadata": {
        "id": "KZf__8InCrRE"
      }
    },
    {
      "cell_type": "code",
      "source": [
        "array1 = np.zeros((6,7))\n",
        "print(array1)"
      ],
      "metadata": {
        "colab": {
          "base_uri": "https://localhost:8080/"
        },
        "id": "5qLi1_y6CrWc",
        "outputId": "28f36935-b5b1-4083-82c5-a127b07b6899"
      },
      "execution_count": 26,
      "outputs": [
        {
          "output_type": "stream",
          "name": "stdout",
          "text": [
            "[[0. 0. 0. 0. 0. 0. 0.]\n",
            " [0. 0. 0. 0. 0. 0. 0.]\n",
            " [0. 0. 0. 0. 0. 0. 0.]\n",
            " [0. 0. 0. 0. 0. 0. 0.]\n",
            " [0. 0. 0. 0. 0. 0. 0.]\n",
            " [0. 0. 0. 0. 0. 0. 0.]]\n"
          ]
        }
      ]
    },
    {
      "cell_type": "markdown",
      "source": [
        "Bài 3 – Ma trận vuông: Là ma trận có số hàng và số cột bằng nhau. Sử dụng thư viện NumPy,\n",
        "hãy tạo ra một ma trận A ∈ R7×7\n",
        "\n",
        ", giá trị các phần tử của ma trận được sinh ngẫu nhiên. Kết quả\n",
        "\n",
        "xuất ra màn hình."
      ],
      "metadata": {
        "id": "hBUJUsfmDC_F"
      }
    },
    {
      "cell_type": "code",
      "source": [
        "array2 = np.random.randint(100, size=(7, 7))\n",
        "print(array2)"
      ],
      "metadata": {
        "colab": {
          "base_uri": "https://localhost:8080/"
        },
        "id": "LeSOSu53DDEA",
        "outputId": "fd69fa5a-4af6-4eef-d03a-2c3cdd9d8afc"
      },
      "execution_count": 27,
      "outputs": [
        {
          "output_type": "stream",
          "name": "stdout",
          "text": [
            "[[70 48 15 89 23  9 67]\n",
            " [ 4  6 31 58 46 86 92]\n",
            " [51 62 26 92 73 77 91]\n",
            " [64 95 58  9 95 12 99]\n",
            " [97 29 15 34 99 84 48]\n",
            " [68 91 65 28 13 88 56]\n",
            " [48 26  0 85 53 70 34]]\n"
          ]
        }
      ]
    },
    {
      "cell_type": "markdown",
      "source": [
        "Bài 4 – Ma trận chéo (diagonal matrix): Ma trận vuông có các phần tử trên đường chéo ai,i ≠ 0\n",
        "trong khi các phần tử còn lại ai,j = 0, ∀i ≠ j.\n",
        "Sử dụng thư viện NumPy, hãy tạo một ma trận chéo A6×6 với phần tử nằm trên đường chéo có giá\n",
        "trị là 15. Gợi ý: sử dụng kết hợp hàm numpy.zeros() và numpy.fill_diagonal(). Kết quả xuất ra\n",
        "màn hình."
      ],
      "metadata": {
        "id": "HV_RerJjEUNY"
      }
    },
    {
      "cell_type": "code",
      "source": [
        "a = np.zeros((6, 6), int)\n",
        "np.fill_diagonal(a, 15)\n",
        "print(a)"
      ],
      "metadata": {
        "colab": {
          "base_uri": "https://localhost:8080/"
        },
        "id": "PeKN0UyrEUT8",
        "outputId": "727af50c-e8a0-4f2d-f77f-52bfaf99c314"
      },
      "execution_count": 28,
      "outputs": [
        {
          "output_type": "stream",
          "name": "stdout",
          "text": [
            "[[15  0  0  0  0  0]\n",
            " [ 0 15  0  0  0  0]\n",
            " [ 0  0 15  0  0  0]\n",
            " [ 0  0  0 15  0  0]\n",
            " [ 0  0  0  0 15  0]\n",
            " [ 0  0  0  0  0 15]]\n"
          ]
        }
      ]
    },
    {
      "cell_type": "markdown",
      "source": [
        "Bài 5 – Ma trận tam giác trên (upper triangular matrix): Ma trận vuông An×n được gọi là ma\n",
        "trận tam giác trên nếu các phần tử nằm trên đường chéo đều khác 0 và các phần tử nằm dưới đường\n",
        "chéo đều bằng 0.\n",
        "Sử dụng thư viện NumPy, hãy tạo một ma trận tam giác trên A8×8. Gợi ý: sử dụng hàm\n",
        "numpy.triu(). Kết quả xuất ra màn hình."
      ],
      "metadata": {
        "id": "4nR8Z06mFE3O"
      }
    },
    {
      "cell_type": "code",
      "source": [
        "array3 = np.random.randint(100, size=(8, 8))\n",
        "array3 = np.triu(array3,1)\n",
        "print(array3)"
      ],
      "metadata": {
        "colab": {
          "base_uri": "https://localhost:8080/"
        },
        "id": "0SAK2Hr4FTxv",
        "outputId": "176e89ce-625a-4634-ba15-6b49cf91ce3e"
      },
      "execution_count": 29,
      "outputs": [
        {
          "output_type": "stream",
          "name": "stdout",
          "text": [
            "[[ 0 23 77 43 44 78 55 61]\n",
            " [ 0  0 85 20 68 60 79 10]\n",
            " [ 0  0  0 26 68 36 35 31]\n",
            " [ 0  0  0  0 92 26 41 75]\n",
            " [ 0  0  0  0  0 20  1 53]\n",
            " [ 0  0  0  0  0  0 38  6]\n",
            " [ 0  0  0  0  0  0  0 30]\n",
            " [ 0  0  0  0  0  0  0  0]]\n"
          ]
        }
      ]
    },
    {
      "cell_type": "markdown",
      "source": [
        "Bài 6 – Ma trận tam giác dưới (lower triangular matrix): Tương tự bài 5, bạn hãy xây dựng\n",
        "ma trận tam giác dưới. Kết quả xuất ra màn hình."
      ],
      "metadata": {
        "id": "C9DxCe7xIT-R"
      }
    },
    {
      "cell_type": "code",
      "source": [
        "array4 = np.random.randint(100, size=(8, 8))\n",
        "array4 = np.tril(array4,-1)\n",
        "print(array4)"
      ],
      "metadata": {
        "colab": {
          "base_uri": "https://localhost:8080/"
        },
        "id": "-gdo3HxfIUEQ",
        "outputId": "cc92de74-0d60-4be8-ace9-8af422ef037e"
      },
      "execution_count": 33,
      "outputs": [
        {
          "output_type": "stream",
          "name": "stdout",
          "text": [
            "[[ 0  0  0  0  0  0  0  0]\n",
            " [94  0  0  0  0  0  0  0]\n",
            " [69 53  0  0  0  0  0  0]\n",
            " [79 85 30  0  0  0  0  0]\n",
            " [12 81 40 70  0  0  0  0]\n",
            " [98 56 28 63 16  0  0  0]\n",
            " [80 97 54 38 85 13  0  0]\n",
            " [86 54 57 49 16  5 93  0]]\n"
          ]
        }
      ]
    },
    {
      "cell_type": "markdown",
      "source": [
        "Bài 7 – Ma trận đơn vị (identity matrix): Ma trận đơn vị In có số chiều n là một ma trận vuông\n",
        "mà mọi phần tử trên đường chéo chính bằng 1. Sử dụng thư viện NumPy, hãy tạo ra một ma trận\n",
        "I9\n",
        ". Kết quả xuất ra màn hình. Gợi ý: sử dụng hàm numpy.identity()"
      ],
      "metadata": {
        "id": "KuhLo4SVI6Vt"
      }
    },
    {
      "cell_type": "code",
      "source": [
        "array5 = np.eye(9)\n",
        "print(array5)"
      ],
      "metadata": {
        "colab": {
          "base_uri": "https://localhost:8080/"
        },
        "id": "V2VM8vZ5I6bM",
        "outputId": "6ee978aa-d948-420e-f572-e171a2337c5b"
      },
      "execution_count": 34,
      "outputs": [
        {
          "output_type": "stream",
          "name": "stdout",
          "text": [
            "[[1. 0. 0. 0. 0. 0. 0. 0. 0.]\n",
            " [0. 1. 0. 0. 0. 0. 0. 0. 0.]\n",
            " [0. 0. 1. 0. 0. 0. 0. 0. 0.]\n",
            " [0. 0. 0. 1. 0. 0. 0. 0. 0.]\n",
            " [0. 0. 0. 0. 1. 0. 0. 0. 0.]\n",
            " [0. 0. 0. 0. 0. 1. 0. 0. 0.]\n",
            " [0. 0. 0. 0. 0. 0. 1. 0. 0.]\n",
            " [0. 0. 0. 0. 0. 0. 0. 1. 0.]\n",
            " [0. 0. 0. 0. 0. 0. 0. 0. 1.]]\n"
          ]
        }
      ]
    },
    {
      "cell_type": "markdown",
      "source": [
        "Bài 8 "
      ],
      "metadata": {
        "id": "Tie0ppe0Jc0l"
      }
    },
    {
      "cell_type": "markdown",
      "source": [
        "Phép cộng ma trận: Am×n + Bm×n = Cm×n. Hãy sinh ngẫu nhiên 2 ma trận có kích thước\n",
        "6x7. Thực hiện phép cộng 2 ma trận trên. Xuất giá trị các ma trận ra màn hình."
      ],
      "metadata": {
        "id": "upaieRDHKGST"
      }
    },
    {
      "cell_type": "code",
      "source": [
        "array6 = np.random.randint(100, size=(6, 7))\n",
        "array7 = np.random.randint(100, size=(6, 7))\n",
        "print(array6 + array7)"
      ],
      "metadata": {
        "colab": {
          "base_uri": "https://localhost:8080/"
        },
        "id": "cskFVpw3Jc5R",
        "outputId": "eb59cd35-5911-4741-fdcc-dd08e38002c0"
      },
      "execution_count": 35,
      "outputs": [
        {
          "output_type": "stream",
          "name": "stdout",
          "text": [
            "[[148  62  79  96 117 132  66]\n",
            " [166  95  69 114  50 109 151]\n",
            " [ 44 108 119  84 167 119 133]\n",
            " [ 91 103  66 117  80 178  95]\n",
            " [ 55 133 120  23  65 108  79]\n",
            " [ 74 154  12  59  90  71 146]]\n"
          ]
        }
      ]
    },
    {
      "cell_type": "markdown",
      "source": [
        "Phép nhân vô hướng một số với ma trận: Hãy sinh ngẫu nhiên 1 ma trận có kích thước\n",
        "5x8. Thực hiện nhân vô hướng 1 số được nhập từ bàn phím với ma trận này. Kết quả xuất\n",
        "ra màn hình."
      ],
      "metadata": {
        "id": "mAAyhQv2KiT7"
      }
    },
    {
      "cell_type": "code",
      "source": [
        "a = int(input(\"Nhập số \"))\n",
        "array8 = np.random.randint(100, size=(5, 8))\n",
        "print(np.dot(a,array8))"
      ],
      "metadata": {
        "colab": {
          "base_uri": "https://localhost:8080/"
        },
        "id": "rzYfcEnoKiYj",
        "outputId": "5ead40df-49f7-403d-e0e1-4ac1adcff941"
      },
      "execution_count": 38,
      "outputs": [
        {
          "output_type": "stream",
          "name": "stdout",
          "text": [
            "Nhập số 4\n",
            "[[ 68   8 172 308 212 196 200  48]\n",
            " [176 340 196  16 356 332 220 336]\n",
            " [116 240 380 316 384 312  80 252]\n",
            " [396 116 100 276  76 192 100 296]\n",
            " [352 128   0 196 144  44 276 244]]\n"
          ]
        }
      ]
    },
    {
      "cell_type": "markdown",
      "source": [
        "Phép chuyển vị ma trận: Sinh ngẫu nhiên một ma trận có kích thước 3x7. Thực hiện phép\n",
        "chuyển vị đối với ma trận này. Xuất các ma trận này ra màn hình."
      ],
      "metadata": {
        "id": "w_wrUXdcL17N"
      }
    },
    {
      "cell_type": "code",
      "source": [
        "array9 = np.random.randint(100, size=(3, 7))\n",
        "array10 = np.transpose(array9)\n",
        "print(array10)"
      ],
      "metadata": {
        "colab": {
          "base_uri": "https://localhost:8080/"
        },
        "id": "kUuCsgwNL2Db",
        "outputId": "4e76c5fc-d838-41df-9612-5890615b98cb"
      },
      "execution_count": 41,
      "outputs": [
        {
          "output_type": "stream",
          "name": "stdout",
          "text": [
            "[[ 5 71 74]\n",
            " [35  0 38]\n",
            " [39  5  5]\n",
            " [38 27 63]\n",
            " [15 82 67]\n",
            " [41 17 73]\n",
            " [11 24 94]]\n"
          ]
        }
      ]
    },
    {
      "cell_type": "markdown",
      "source": [
        "Phép nhân 2 ma trận: Am×n ∙ Bn×p = Cm×p. Hãy sinh ngẫu nhiên 2 ma trận A5×7 và B7×3,\n",
        "tiến hành nhân 2 ma trận này để thu được ma trận C5×3. Xuất các ma trận trên ra màn hình.\n",
        "Gợi ý: sử dụng hàm numpy.dot()"
      ],
      "metadata": {
        "id": "1QXHsASIMn3l"
      }
    },
    {
      "cell_type": "code",
      "source": [
        "array11 = np.random.randint(100, size=(5, 7))\n",
        "array12 = np.random.randint(100, size=(7, 3))\n",
        "print(np.dot(array11,array12))"
      ],
      "metadata": {
        "colab": {
          "base_uri": "https://localhost:8080/"
        },
        "id": "6l298KdtMn-l",
        "outputId": "2a47866b-b0ad-4cd5-a82d-c49e2306e430"
      },
      "execution_count": 42,
      "outputs": [
        {
          "output_type": "stream",
          "name": "stdout",
          "text": [
            "[[18753 20313 13645]\n",
            " [21820 22200 17426]\n",
            " [20143 13425 16028]\n",
            " [11839 10333 10684]\n",
            " [13366 11851  7541]]\n"
          ]
        }
      ]
    },
    {
      "cell_type": "markdown",
      "source": [
        "Ma trận khả nghịch: ma trận vuông An×n gọi là khả nghịch (hay không suy biến) nếu tồn\n",
        "tại một ma trận vuông Bn×n sao cho A ∙ B = In . Khi này, B được gọi là ma trận nghịch\n",
        "đảo của A và ký hiệu là A\n",
        "−1\n",
        ". Cho ma trận A5×7, hãy tính ma trận khả nghịch của A. Gợi\n",
        "\n",
        "ý: sử dụng hàm numpy.linalg.inv()"
      ],
      "metadata": {
        "id": "R9XSiy1gNgCV"
      }
    },
    {
      "cell_type": "code",
      "source": [
        "A = np.random.randint(100, size=(5, 5))\n",
        "print(np.linalg.inv(A))"
      ],
      "metadata": {
        "colab": {
          "base_uri": "https://localhost:8080/"
        },
        "id": "BAFehtonNgIp",
        "outputId": "40f0b399-566d-4845-ad23-78e3765e8ef4"
      },
      "execution_count": 45,
      "outputs": [
        {
          "output_type": "stream",
          "name": "stdout",
          "text": [
            "[[-0.0234625   0.0051088   0.03551484 -0.0056193   0.00212399]\n",
            " [ 0.02641033 -0.01353032 -0.02500923  0.00981829 -0.00214386]\n",
            " [ 0.00463823  0.01339886 -0.00569264  0.00546464 -0.01960616]\n",
            " [ 0.0305481  -0.01092416 -0.05954099  0.02821442  0.00800517]\n",
            " [-0.01275153  0.00511758  0.02144855 -0.0194458   0.01893046]]\n"
          ]
        }
      ]
    },
    {
      "cell_type": "markdown",
      "source": [
        "Bài 9 – Vector là dạng ma trận đặc biệt: Sử dụng numpy để thực hiện các yêu cầu sau\n",
        " Vector hàng (row vector) thực chất là ma trận có kích thước 1 × n. Hãy tạo ngẫu nhiên 1\n",
        "vector hàng - x có kích thước 1 × 8. Kết quả xuất ra màn hình.\n",
        " Vector cột (column vector) thực chất là ma trận có kích thước m × 1. Hãy tạo ngẫu nhiên\n",
        "1 vector cột – x có kích thước 8 × 1. Kết quả xuất ra màn hình."
      ],
      "metadata": {
        "id": "Fa-dGHSbPMxw"
      }
    },
    {
      "cell_type": "code",
      "source": [
        "array13 = np.random.randint(100, size=(1, 8))\n",
        "array14 = np.random.randint(100, size=(8, 1))\n",
        "print(array13)\n",
        "print(array14)"
      ],
      "metadata": {
        "colab": {
          "base_uri": "https://localhost:8080/"
        },
        "id": "aY_9TYJMPM7D",
        "outputId": "04531717-3637-46f1-82b3-374e62c87414"
      },
      "execution_count": 47,
      "outputs": [
        {
          "output_type": "stream",
          "name": "stdout",
          "text": [
            "[[15 66 27 59 67 64 44 54]]\n",
            "[[65]\n",
            " [82]\n",
            " [98]\n",
            " [ 8]\n",
            " [76]\n",
            " [22]\n",
            " [25]\n",
            " [35]]\n"
          ]
        }
      ]
    },
    {
      "cell_type": "markdown",
      "source": [
        "Bài 10 - Hệ phương trình tuyến tính: ví dụ ta có phương trình\n",
        "\n",
        "2x-2y+z=-3\n",
        "\n",
        "x+3y-2z=1\n",
        "\n",
        "3x-y-z=2"
      ],
      "metadata": {
        "id": "v8a16I8BP39B"
      }
    },
    {
      "cell_type": "code",
      "source": [
        "# đưa hệ phương trình về ma trận \n",
        "a = np.array([[2,-2,1],[1,3,-2],[3,-1,-1]])\n",
        "print(a)\n",
        "b = np.array([-3,1,2])"
      ],
      "metadata": {
        "colab": {
          "base_uri": "https://localhost:8080/"
        },
        "id": "U53iLQ1ZP4G4",
        "outputId": "85566d2e-e612-43b9-c763-a4a8750ab3b9"
      },
      "execution_count": 52,
      "outputs": [
        {
          "output_type": "stream",
          "name": "stdout",
          "text": [
            "[[ 2 -2  1]\n",
            " [ 1  3 -2]\n",
            " [ 3 -1 -1]]\n"
          ]
        }
      ]
    },
    {
      "cell_type": "code",
      "source": [
        "print(np.linalg.solve(a,b))"
      ],
      "metadata": {
        "colab": {
          "base_uri": "https://localhost:8080/"
        },
        "id": "kbIyQGToVdBL",
        "outputId": "2f73a5b2-5d06-4665-dfe2-8926a514eb34"
      },
      "execution_count": 55,
      "outputs": [
        {
          "output_type": "stream",
          "name": "stdout",
          "text": [
            "[-1.4 -2.  -4.2]\n"
          ]
        }
      ]
    },
    {
      "cell_type": "markdown",
      "source": [
        "Khi đó x = -1,4, y=-2, z= -4,2"
      ],
      "metadata": {
        "id": "8Y3uYAe5Vq46"
      }
    }
  ]
}